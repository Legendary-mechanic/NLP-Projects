{
 "cells": [
  {
   "attachments": {},
   "cell_type": "markdown",
   "metadata": {},
   "source": [
    "# PROJECT-1 SENTIMENT ANALYSIS OF TWITTER TWEETS"
   ]
  },
  {
   "attachments": {},
   "cell_type": "markdown",
   "metadata": {},
   "source": [
    "#### IMPORTING NLTK FOR NLP"
   ]
  },
  {
   "cell_type": "code",
   "execution_count": 63,
   "metadata": {},
   "outputs": [],
   "source": [
    "from nltk.tokenize import word_tokenize\n",
    "from nltk.corpus import stopwords\n",
    "from nltk.stem import PorterStemmer\n",
    "import pandas as pd\n",
    "import numpy as np\n",
    "import re"
   ]
  },
  {
   "attachments": {},
   "cell_type": "markdown",
   "metadata": {},
   "source": [
    "#### LOADING THE TRAINING AND TESTING DATASETS"
   ]
  },
  {
   "cell_type": "code",
   "execution_count": 64,
   "metadata": {},
   "outputs": [],
   "source": [
    "df_train = pd.read_csv(\"twitter_training.csv\", names=['Tweet ID','Game Name','Label','Text'])\n",
    "df_test = pd.read_csv(\"twitter_validation.csv\", names=['Tweet ID','Game Name','Label','Text'])"
   ]
  },
  {
   "cell_type": "code",
   "execution_count": 65,
   "metadata": {},
   "outputs": [
    {
     "data": {
      "text/html": [
       "<div>\n",
       "<style scoped>\n",
       "    .dataframe tbody tr th:only-of-type {\n",
       "        vertical-align: middle;\n",
       "    }\n",
       "\n",
       "    .dataframe tbody tr th {\n",
       "        vertical-align: top;\n",
       "    }\n",
       "\n",
       "    .dataframe thead th {\n",
       "        text-align: right;\n",
       "    }\n",
       "</style>\n",
       "<table border=\"1\" class=\"dataframe\">\n",
       "  <thead>\n",
       "    <tr style=\"text-align: right;\">\n",
       "      <th></th>\n",
       "      <th>Tweet ID</th>\n",
       "      <th>Game Name</th>\n",
       "      <th>Label</th>\n",
       "      <th>Text</th>\n",
       "    </tr>\n",
       "  </thead>\n",
       "  <tbody>\n",
       "    <tr>\n",
       "      <th>0</th>\n",
       "      <td>2401</td>\n",
       "      <td>Borderlands</td>\n",
       "      <td>Positive</td>\n",
       "      <td>im getting on borderlands and i will murder yo...</td>\n",
       "    </tr>\n",
       "    <tr>\n",
       "      <th>1</th>\n",
       "      <td>2401</td>\n",
       "      <td>Borderlands</td>\n",
       "      <td>Positive</td>\n",
       "      <td>I am coming to the borders and I will kill you...</td>\n",
       "    </tr>\n",
       "    <tr>\n",
       "      <th>2</th>\n",
       "      <td>2401</td>\n",
       "      <td>Borderlands</td>\n",
       "      <td>Positive</td>\n",
       "      <td>im getting on borderlands and i will kill you ...</td>\n",
       "    </tr>\n",
       "    <tr>\n",
       "      <th>3</th>\n",
       "      <td>2401</td>\n",
       "      <td>Borderlands</td>\n",
       "      <td>Positive</td>\n",
       "      <td>im coming on borderlands and i will murder you...</td>\n",
       "    </tr>\n",
       "    <tr>\n",
       "      <th>4</th>\n",
       "      <td>2401</td>\n",
       "      <td>Borderlands</td>\n",
       "      <td>Positive</td>\n",
       "      <td>im getting on borderlands 2 and i will murder ...</td>\n",
       "    </tr>\n",
       "  </tbody>\n",
       "</table>\n",
       "</div>"
      ],
      "text/plain": [
       "   Tweet ID    Game Name     Label  \\\n",
       "0      2401  Borderlands  Positive   \n",
       "1      2401  Borderlands  Positive   \n",
       "2      2401  Borderlands  Positive   \n",
       "3      2401  Borderlands  Positive   \n",
       "4      2401  Borderlands  Positive   \n",
       "\n",
       "                                                Text  \n",
       "0  im getting on borderlands and i will murder yo...  \n",
       "1  I am coming to the borders and I will kill you...  \n",
       "2  im getting on borderlands and i will kill you ...  \n",
       "3  im coming on borderlands and i will murder you...  \n",
       "4  im getting on borderlands 2 and i will murder ...  "
      ]
     },
     "execution_count": 65,
     "metadata": {},
     "output_type": "execute_result"
    }
   ],
   "source": [
    "df_train.head()"
   ]
  },
  {
   "cell_type": "code",
   "execution_count": 66,
   "metadata": {},
   "outputs": [
    {
     "data": {
      "text/html": [
       "<div>\n",
       "<style scoped>\n",
       "    .dataframe tbody tr th:only-of-type {\n",
       "        vertical-align: middle;\n",
       "    }\n",
       "\n",
       "    .dataframe tbody tr th {\n",
       "        vertical-align: top;\n",
       "    }\n",
       "\n",
       "    .dataframe thead th {\n",
       "        text-align: right;\n",
       "    }\n",
       "</style>\n",
       "<table border=\"1\" class=\"dataframe\">\n",
       "  <thead>\n",
       "    <tr style=\"text-align: right;\">\n",
       "      <th></th>\n",
       "      <th>Tweet ID</th>\n",
       "      <th>Game Name</th>\n",
       "      <th>Label</th>\n",
       "      <th>Text</th>\n",
       "    </tr>\n",
       "  </thead>\n",
       "  <tbody>\n",
       "    <tr>\n",
       "      <th>0</th>\n",
       "      <td>3364</td>\n",
       "      <td>Facebook</td>\n",
       "      <td>Irrelevant</td>\n",
       "      <td>I mentioned on Facebook that I was struggling ...</td>\n",
       "    </tr>\n",
       "    <tr>\n",
       "      <th>1</th>\n",
       "      <td>352</td>\n",
       "      <td>Amazon</td>\n",
       "      <td>Neutral</td>\n",
       "      <td>BBC News - Amazon boss Jeff Bezos rejects clai...</td>\n",
       "    </tr>\n",
       "    <tr>\n",
       "      <th>2</th>\n",
       "      <td>8312</td>\n",
       "      <td>Microsoft</td>\n",
       "      <td>Negative</td>\n",
       "      <td>@Microsoft Why do I pay for WORD when it funct...</td>\n",
       "    </tr>\n",
       "    <tr>\n",
       "      <th>3</th>\n",
       "      <td>4371</td>\n",
       "      <td>CS-GO</td>\n",
       "      <td>Negative</td>\n",
       "      <td>CSGO matchmaking is so full of closet hacking,...</td>\n",
       "    </tr>\n",
       "    <tr>\n",
       "      <th>4</th>\n",
       "      <td>4433</td>\n",
       "      <td>Google</td>\n",
       "      <td>Neutral</td>\n",
       "      <td>Now the President is slapping Americans in the...</td>\n",
       "    </tr>\n",
       "  </tbody>\n",
       "</table>\n",
       "</div>"
      ],
      "text/plain": [
       "   Tweet ID  Game Name       Label  \\\n",
       "0      3364   Facebook  Irrelevant   \n",
       "1       352     Amazon     Neutral   \n",
       "2      8312  Microsoft    Negative   \n",
       "3      4371      CS-GO    Negative   \n",
       "4      4433     Google     Neutral   \n",
       "\n",
       "                                                Text  \n",
       "0  I mentioned on Facebook that I was struggling ...  \n",
       "1  BBC News - Amazon boss Jeff Bezos rejects clai...  \n",
       "2  @Microsoft Why do I pay for WORD when it funct...  \n",
       "3  CSGO matchmaking is so full of closet hacking,...  \n",
       "4  Now the President is slapping Americans in the...  "
      ]
     },
     "execution_count": 66,
     "metadata": {},
     "output_type": "execute_result"
    }
   ],
   "source": [
    "df_test.head()"
   ]
  },
  {
   "cell_type": "code",
   "execution_count": 67,
   "metadata": {},
   "outputs": [
    {
     "name": "stdout",
     "output_type": "stream",
     "text": [
      "<class 'pandas.core.frame.DataFrame'>\n",
      "RangeIndex: 74682 entries, 0 to 74681\n",
      "Data columns (total 4 columns):\n",
      " #   Column     Non-Null Count  Dtype \n",
      "---  ------     --------------  ----- \n",
      " 0   Tweet ID   74682 non-null  int64 \n",
      " 1   Game Name  74682 non-null  object\n",
      " 2   Label      74682 non-null  object\n",
      " 3   Text       73996 non-null  object\n",
      "dtypes: int64(1), object(3)\n",
      "memory usage: 2.3+ MB\n"
     ]
    }
   ],
   "source": [
    "df_train.info()"
   ]
  },
  {
   "cell_type": "code",
   "execution_count": 68,
   "metadata": {},
   "outputs": [
    {
     "data": {
      "text/plain": [
       "Tweet ID       0\n",
       "Game Name      0\n",
       "Label          0\n",
       "Text         686\n",
       "dtype: int64"
      ]
     },
     "execution_count": 68,
     "metadata": {},
     "output_type": "execute_result"
    }
   ],
   "source": [
    "df_train.isna().sum()"
   ]
  },
  {
   "cell_type": "code",
   "execution_count": 69,
   "metadata": {},
   "outputs": [
    {
     "data": {
      "text/plain": [
       "Tweet ID     0\n",
       "Game Name    0\n",
       "Label        0\n",
       "Text         0\n",
       "dtype: int64"
      ]
     },
     "execution_count": 69,
     "metadata": {},
     "output_type": "execute_result"
    }
   ],
   "source": [
    "df_test.isna().sum()"
   ]
  },
  {
   "attachments": {},
   "cell_type": "markdown",
   "metadata": {},
   "source": [
    "#### DROPPING NA VALUES"
   ]
  },
  {
   "cell_type": "code",
   "execution_count": 70,
   "metadata": {},
   "outputs": [
    {
     "data": {
      "text/plain": [
       "Tweet ID     0\n",
       "Game Name    0\n",
       "Label        0\n",
       "Text         0\n",
       "dtype: int64"
      ]
     },
     "execution_count": 70,
     "metadata": {},
     "output_type": "execute_result"
    }
   ],
   "source": [
    "# it is not possible to fill up empty tweets, so lets drop these rows\n",
    "df_train.dropna(axis=0, inplace=True)\n",
    "df_train.isna().sum()"
   ]
  },
  {
   "cell_type": "code",
   "execution_count": 71,
   "metadata": {},
   "outputs": [
    {
     "data": {
      "text/plain": [
       "(73996, 4)"
      ]
     },
     "execution_count": 71,
     "metadata": {},
     "output_type": "execute_result"
    }
   ],
   "source": [
    "df_train.shape"
   ]
  },
  {
   "cell_type": "code",
   "execution_count": 72,
   "metadata": {},
   "outputs": [
    {
     "data": {
      "text/plain": [
       "(1000, 4)"
      ]
     },
     "execution_count": 72,
     "metadata": {},
     "output_type": "execute_result"
    }
   ],
   "source": [
    "df_test.shape"
   ]
  },
  {
   "attachments": {},
   "cell_type": "markdown",
   "metadata": {},
   "source": [
    "#### DROPPING USELESS COLUMNS"
   ]
  },
  {
   "cell_type": "code",
   "execution_count": 73,
   "metadata": {},
   "outputs": [],
   "source": [
    "# DROP USELESS COLUMNS\n",
    "df_train.drop(columns=['Tweet ID','Game Name'], inplace=True)\n",
    "df_test.drop(columns=['Tweet ID','Game Name'], inplace=True)"
   ]
  },
  {
   "attachments": {},
   "cell_type": "markdown",
   "metadata": {},
   "source": [
    "#### GROUPING THE DATA ON LABEL VALUES"
   ]
  },
  {
   "attachments": {},
   "cell_type": "markdown",
   "metadata": {},
   "source": [
    "##### FOR TRAINING DATA"
   ]
  },
  {
   "cell_type": "code",
   "execution_count": 74,
   "metadata": {},
   "outputs": [
    {
     "data": {
      "text/plain": [
       "Negative      22358\n",
       "Positive      20655\n",
       "Neutral       18108\n",
       "Irrelevant    12875\n",
       "Name: Label, dtype: int64"
      ]
     },
     "execution_count": 74,
     "metadata": {},
     "output_type": "execute_result"
    }
   ],
   "source": [
    "df_train['Label'].value_counts()"
   ]
  },
  {
   "cell_type": "code",
   "execution_count": 75,
   "metadata": {},
   "outputs": [
    {
     "data": {
      "text/plain": [
       "Neutral     30983\n",
       "Negative    22358\n",
       "Positive    20655\n",
       "Name: Label, dtype: int64"
      ]
     },
     "execution_count": 75,
     "metadata": {},
     "output_type": "execute_result"
    }
   ],
   "source": [
    "# SINCE WE REGARD IRRELEVANT CLASSES AS NEUTRAL, LETS CHANGE SENTIMENT TO NEUTRAL FOR THEM\n",
    "df_train['Label'].replace(['Irrelevant'],['Neutral'], inplace=True)\n",
    "df_train['Label'].value_counts()"
   ]
  },
  {
   "attachments": {},
   "cell_type": "markdown",
   "metadata": {},
   "source": [
    "##### FOR TESTING DATA"
   ]
  },
  {
   "cell_type": "code",
   "execution_count": 76,
   "metadata": {},
   "outputs": [
    {
     "data": {
      "text/plain": [
       "Neutral       285\n",
       "Positive      277\n",
       "Negative      266\n",
       "Irrelevant    172\n",
       "Name: Label, dtype: int64"
      ]
     },
     "execution_count": 76,
     "metadata": {},
     "output_type": "execute_result"
    }
   ],
   "source": [
    "df_test['Label'].value_counts()"
   ]
  },
  {
   "cell_type": "code",
   "execution_count": 77,
   "metadata": {},
   "outputs": [
    {
     "data": {
      "text/plain": [
       "Neutral     457\n",
       "Positive    277\n",
       "Negative    266\n",
       "Name: Label, dtype: int64"
      ]
     },
     "execution_count": 77,
     "metadata": {},
     "output_type": "execute_result"
    }
   ],
   "source": [
    "# REPLACING IRRELEVANT WITH NEUTRAL\n",
    "df_test['Label'].replace(['Irrelevant'],['Neutral'], inplace=True)\n",
    "df_test['Label'].value_counts()"
   ]
  },
  {
   "attachments": {},
   "cell_type": "markdown",
   "metadata": {},
   "source": [
    "#### CREATING A FUNCTION TO PREPROCESS TEXT IN TEXT COLUMN"
   ]
  },
  {
   "cell_type": "code",
   "execution_count": 78,
   "metadata": {},
   "outputs": [],
   "source": [
    "def preprocess(text):\n",
    "    # string and regex preprocessing\n",
    "\n",
    "    # converting text to lower\n",
    "    text = text.lower()\n",
    "\n",
    "    # removing only digits\n",
    "    text = re.sub('\\d','',text)\n",
    "\n",
    "    # removing @ words\n",
    "    text = re.sub(r'@\\s?\\w+','',text)\n",
    "\n",
    "    # removing links from text\n",
    "    text = re.sub(r'\\spic\\.twitter\\.com\\s*/\\s*\\S+','',text)\n",
    "    text = re.sub(r\"dlvr\\.it\\s*/\\s*\\S+|dfr\\.it\\s*/\\s*\\S+\", \"\", text)\n",
    "    text = re.sub(r'\\spic\\.wikipedia\\.org\\s*/\\s*\\S+','',text)\n",
    "    text = re.sub('https?://\\S+|www\\.\\S+','',text)\n",
    "\n",
    "    # removing special characters\n",
    "    text = re.sub('\\[.*?\\,]','',text)\n",
    "\n",
    "    # remove punctuation\n",
    "    text = re.sub('[^a-zA-Z0-9\\s]+', '', text)\n",
    "\n",
    "    # remove a9c type words (words containing numbers)\n",
    "    text = re.sub('\\w\\d\\w','',text)\n",
    "\n",
    "    # nltk preprocessing\n",
    "    words = word_tokenize(text)\n",
    "\n",
    "    ps = PorterStemmer()\n",
    "    stop_words = set(stopwords.words('english'))\n",
    "\n",
    "    for w in words:\n",
    "        if w not in stop_words:\n",
    "            # stemming the words\n",
    "            w = ps.stem(w)\n",
    "            text = ' '.join(words)\n",
    "        \n",
    "    # removing extra whitespaces if any\n",
    "    text = re.sub('\\s+',' ',text).strip()\n",
    "\n",
    "    return text"
   ]
  },
  {
   "attachments": {},
   "cell_type": "markdown",
   "metadata": {},
   "source": [
    "## PREPROCESSING THE DATA"
   ]
  },
  {
   "cell_type": "code",
   "execution_count": 79,
   "metadata": {},
   "outputs": [],
   "source": [
    "df_train['Text'] = df_train['Text'].apply(preprocess)\n",
    "df_test['Text'] = df_test['Text'].apply(preprocess)"
   ]
  },
  {
   "cell_type": "code",
   "execution_count": 80,
   "metadata": {},
   "outputs": [
    {
     "data": {
      "text/html": [
       "<div>\n",
       "<style scoped>\n",
       "    .dataframe tbody tr th:only-of-type {\n",
       "        vertical-align: middle;\n",
       "    }\n",
       "\n",
       "    .dataframe tbody tr th {\n",
       "        vertical-align: top;\n",
       "    }\n",
       "\n",
       "    .dataframe thead th {\n",
       "        text-align: right;\n",
       "    }\n",
       "</style>\n",
       "<table border=\"1\" class=\"dataframe\">\n",
       "  <thead>\n",
       "    <tr style=\"text-align: right;\">\n",
       "      <th></th>\n",
       "      <th>Label</th>\n",
       "      <th>Text</th>\n",
       "    </tr>\n",
       "  </thead>\n",
       "  <tbody>\n",
       "    <tr>\n",
       "      <th>0</th>\n",
       "      <td>Positive</td>\n",
       "      <td>im getting on borderlands and i will murder yo...</td>\n",
       "    </tr>\n",
       "    <tr>\n",
       "      <th>1</th>\n",
       "      <td>Positive</td>\n",
       "      <td>i am coming to the borders and i will kill you...</td>\n",
       "    </tr>\n",
       "    <tr>\n",
       "      <th>2</th>\n",
       "      <td>Positive</td>\n",
       "      <td>im getting on borderlands and i will kill you all</td>\n",
       "    </tr>\n",
       "    <tr>\n",
       "      <th>3</th>\n",
       "      <td>Positive</td>\n",
       "      <td>im coming on borderlands and i will murder you...</td>\n",
       "    </tr>\n",
       "    <tr>\n",
       "      <th>4</th>\n",
       "      <td>Positive</td>\n",
       "      <td>im getting on borderlands and i will murder yo...</td>\n",
       "    </tr>\n",
       "  </tbody>\n",
       "</table>\n",
       "</div>"
      ],
      "text/plain": [
       "      Label                                               Text\n",
       "0  Positive  im getting on borderlands and i will murder yo...\n",
       "1  Positive  i am coming to the borders and i will kill you...\n",
       "2  Positive  im getting on borderlands and i will kill you all\n",
       "3  Positive  im coming on borderlands and i will murder you...\n",
       "4  Positive  im getting on borderlands and i will murder yo..."
      ]
     },
     "execution_count": 80,
     "metadata": {},
     "output_type": "execute_result"
    }
   ],
   "source": [
    "df_train.head()"
   ]
  },
  {
   "cell_type": "code",
   "execution_count": 81,
   "metadata": {},
   "outputs": [
    {
     "data": {
      "text/html": [
       "<div>\n",
       "<style scoped>\n",
       "    .dataframe tbody tr th:only-of-type {\n",
       "        vertical-align: middle;\n",
       "    }\n",
       "\n",
       "    .dataframe tbody tr th {\n",
       "        vertical-align: top;\n",
       "    }\n",
       "\n",
       "    .dataframe thead th {\n",
       "        text-align: right;\n",
       "    }\n",
       "</style>\n",
       "<table border=\"1\" class=\"dataframe\">\n",
       "  <thead>\n",
       "    <tr style=\"text-align: right;\">\n",
       "      <th></th>\n",
       "      <th>Label</th>\n",
       "      <th>Text</th>\n",
       "    </tr>\n",
       "  </thead>\n",
       "  <tbody>\n",
       "    <tr>\n",
       "      <th>0</th>\n",
       "      <td>Neutral</td>\n",
       "      <td>i mentioned on facebook that i was struggling ...</td>\n",
       "    </tr>\n",
       "    <tr>\n",
       "      <th>1</th>\n",
       "      <td>Neutral</td>\n",
       "      <td>bbc news amazon boss jeff bezos rejects claims...</td>\n",
       "    </tr>\n",
       "    <tr>\n",
       "      <th>2</th>\n",
       "      <td>Negative</td>\n",
       "      <td>why do i pay for word when it functions so poo...</td>\n",
       "    </tr>\n",
       "    <tr>\n",
       "      <th>3</th>\n",
       "      <td>Negative</td>\n",
       "      <td>csgo matchmaking is so full of closet hacking ...</td>\n",
       "    </tr>\n",
       "    <tr>\n",
       "      <th>4</th>\n",
       "      <td>Neutral</td>\n",
       "      <td>now the president is slapping americans in the...</td>\n",
       "    </tr>\n",
       "  </tbody>\n",
       "</table>\n",
       "</div>"
      ],
      "text/plain": [
       "      Label                                               Text\n",
       "0   Neutral  i mentioned on facebook that i was struggling ...\n",
       "1   Neutral  bbc news amazon boss jeff bezos rejects claims...\n",
       "2  Negative  why do i pay for word when it functions so poo...\n",
       "3  Negative  csgo matchmaking is so full of closet hacking ...\n",
       "4   Neutral  now the president is slapping americans in the..."
      ]
     },
     "execution_count": 81,
     "metadata": {},
     "output_type": "execute_result"
    }
   ],
   "source": [
    "df_test.head()"
   ]
  },
  {
   "attachments": {},
   "cell_type": "markdown",
   "metadata": {},
   "source": [
    "#### ONE HOT ENCODING MANUALLY FOR THE LABEL VALUES"
   ]
  },
  {
   "cell_type": "code",
   "execution_count": 82,
   "metadata": {},
   "outputs": [],
   "source": [
    "df_train['Label'].replace(['Neutral','Positive','Negative'],[0, 1, -1], inplace=True)\n",
    "df_test['Label'].replace(['Neutral','Positive','Negative'],[0, 1, -1], inplace=True)"
   ]
  },
  {
   "cell_type": "code",
   "execution_count": 83,
   "metadata": {},
   "outputs": [
    {
     "data": {
      "text/plain": [
       "array([ 1,  0, -1], dtype=int64)"
      ]
     },
     "execution_count": 83,
     "metadata": {},
     "output_type": "execute_result"
    }
   ],
   "source": [
    "df_train[\"Label\"].unique()"
   ]
  },
  {
   "cell_type": "code",
   "execution_count": 84,
   "metadata": {},
   "outputs": [
    {
     "data": {
      "text/plain": [
       "array([ 0, -1,  1], dtype=int64)"
      ]
     },
     "execution_count": 84,
     "metadata": {},
     "output_type": "execute_result"
    }
   ],
   "source": [
    "df_test[\"Label\"].unique()"
   ]
  },
  {
   "attachments": {},
   "cell_type": "markdown",
   "metadata": {},
   "source": [
    "#### IMPORTING NECESSARY LIBRARIES"
   ]
  },
  {
   "cell_type": "code",
   "execution_count": 85,
   "metadata": {},
   "outputs": [],
   "source": [
    "from sklearn.naive_bayes import MultinomialNB, BernoulliNB\n",
    "from sklearn.metrics import accuracy_score\n",
    "from sklearn.model_selection import train_test_split\n",
    "from sklearn.feature_extraction.text import TfidfVectorizer\n",
    "from sklearn.pipeline import Pipeline\n",
    "from sklearn.model_selection import GridSearchCV\n",
    "from sklearn.linear_model import LogisticRegression\n",
    "import sklearn\n",
    "from sklearn.svm import SVC\n",
    "from sklearn.ensemble import RandomForestClassifier, GradientBoostingClassifier"
   ]
  },
  {
   "attachments": {},
   "cell_type": "markdown",
   "metadata": {},
   "source": [
    "#### DEFINING THE TRAINING AND TESTING DATASETS"
   ]
  },
  {
   "cell_type": "code",
   "execution_count": 86,
   "metadata": {},
   "outputs": [],
   "source": [
    "X = df_train['Text']\n",
    "y = df_train[\"Label\"]\n",
    "\n",
    "X_train, X_test, y_train, y_test = train_test_split(X,y, test_size=0.05, random_state=1)\n",
    "\n",
    "X_testfinal = df_test['Text']\n",
    "y_testfinal = df_test['Label']"
   ]
  },
  {
   "attachments": {},
   "cell_type": "markdown",
   "metadata": {},
   "source": [
    "#### CONVERTING TEXT COLUMN INTO NUMERICAL FORMAT FOR MACHINE LEARNING"
   ]
  },
  {
   "cell_type": "code",
   "execution_count": 87,
   "metadata": {},
   "outputs": [],
   "source": [
    "vector = TfidfVectorizer().fit(X)\n",
    "\n",
    "X_train_vectorized = vector.transform(X_train)\n",
    "X_test_vectorized = vector.transform(X_test)\n",
    "X_testfinal_vectorized = vector.transform(X_testfinal)"
   ]
  },
  {
   "attachments": {},
   "cell_type": "markdown",
   "metadata": {},
   "source": [
    "## CREATING A PIPELINE AND SCORING METHOD"
   ]
  },
  {
   "cell_type": "code",
   "execution_count": 88,
   "metadata": {},
   "outputs": [],
   "source": [
    "pipe = Pipeline([\n",
    "    ('model', None)\n",
    "])\n",
    "score = ['accuracy']"
   ]
  },
  {
   "attachments": {},
   "cell_type": "markdown",
   "metadata": {},
   "source": [
    "### LOGISTIC REGRESSION MODEL"
   ]
  },
  {
   "cell_type": "code",
   "execution_count": 59,
   "metadata": {},
   "outputs": [
    {
     "data": {
      "text/html": [
       "<style>#sk-container-id-12 {color: black;background-color: white;}#sk-container-id-12 pre{padding: 0;}#sk-container-id-12 div.sk-toggleable {background-color: white;}#sk-container-id-12 label.sk-toggleable__label {cursor: pointer;display: block;width: 100%;margin-bottom: 0;padding: 0.3em;box-sizing: border-box;text-align: center;}#sk-container-id-12 label.sk-toggleable__label-arrow:before {content: \"▸\";float: left;margin-right: 0.25em;color: #696969;}#sk-container-id-12 label.sk-toggleable__label-arrow:hover:before {color: black;}#sk-container-id-12 div.sk-estimator:hover label.sk-toggleable__label-arrow:before {color: black;}#sk-container-id-12 div.sk-toggleable__content {max-height: 0;max-width: 0;overflow: hidden;text-align: left;background-color: #f0f8ff;}#sk-container-id-12 div.sk-toggleable__content pre {margin: 0.2em;color: black;border-radius: 0.25em;background-color: #f0f8ff;}#sk-container-id-12 input.sk-toggleable__control:checked~div.sk-toggleable__content {max-height: 200px;max-width: 100%;overflow: auto;}#sk-container-id-12 input.sk-toggleable__control:checked~label.sk-toggleable__label-arrow:before {content: \"▾\";}#sk-container-id-12 div.sk-estimator input.sk-toggleable__control:checked~label.sk-toggleable__label {background-color: #d4ebff;}#sk-container-id-12 div.sk-label input.sk-toggleable__control:checked~label.sk-toggleable__label {background-color: #d4ebff;}#sk-container-id-12 input.sk-hidden--visually {border: 0;clip: rect(1px 1px 1px 1px);clip: rect(1px, 1px, 1px, 1px);height: 1px;margin: -1px;overflow: hidden;padding: 0;position: absolute;width: 1px;}#sk-container-id-12 div.sk-estimator {font-family: monospace;background-color: #f0f8ff;border: 1px dotted black;border-radius: 0.25em;box-sizing: border-box;margin-bottom: 0.5em;}#sk-container-id-12 div.sk-estimator:hover {background-color: #d4ebff;}#sk-container-id-12 div.sk-parallel-item::after {content: \"\";width: 100%;border-bottom: 1px solid gray;flex-grow: 1;}#sk-container-id-12 div.sk-label:hover label.sk-toggleable__label {background-color: #d4ebff;}#sk-container-id-12 div.sk-serial::before {content: \"\";position: absolute;border-left: 1px solid gray;box-sizing: border-box;top: 0;bottom: 0;left: 50%;z-index: 0;}#sk-container-id-12 div.sk-serial {display: flex;flex-direction: column;align-items: center;background-color: white;padding-right: 0.2em;padding-left: 0.2em;position: relative;}#sk-container-id-12 div.sk-item {position: relative;z-index: 1;}#sk-container-id-12 div.sk-parallel {display: flex;align-items: stretch;justify-content: center;background-color: white;position: relative;}#sk-container-id-12 div.sk-item::before, #sk-container-id-12 div.sk-parallel-item::before {content: \"\";position: absolute;border-left: 1px solid gray;box-sizing: border-box;top: 0;bottom: 0;left: 50%;z-index: -1;}#sk-container-id-12 div.sk-parallel-item {display: flex;flex-direction: column;z-index: 1;position: relative;background-color: white;}#sk-container-id-12 div.sk-parallel-item:first-child::after {align-self: flex-end;width: 50%;}#sk-container-id-12 div.sk-parallel-item:last-child::after {align-self: flex-start;width: 50%;}#sk-container-id-12 div.sk-parallel-item:only-child::after {width: 0;}#sk-container-id-12 div.sk-dashed-wrapped {border: 1px dashed gray;margin: 0 0.4em 0.5em 0.4em;box-sizing: border-box;padding-bottom: 0.4em;background-color: white;}#sk-container-id-12 div.sk-label label {font-family: monospace;font-weight: bold;display: inline-block;line-height: 1.2em;}#sk-container-id-12 div.sk-label-container {text-align: center;}#sk-container-id-12 div.sk-container {/* jupyter's `normalize.less` sets `[hidden] { display: none; }` but bootstrap.min.css set `[hidden] { display: none !important; }` so we also need the `!important` here to be able to override the default hidden behavior on the sphinx rendered scikit-learn.org. See: https://github.com/scikit-learn/scikit-learn/issues/21755 */display: inline-block !important;position: relative;}#sk-container-id-12 div.sk-text-repr-fallback {display: none;}</style><div id=\"sk-container-id-12\" class=\"sk-top-container\"><div class=\"sk-text-repr-fallback\"><pre>GridSearchCV(cv=30, estimator=Pipeline(steps=[(&#x27;model&#x27;, None)]),\n",
       "             param_grid=[{&#x27;model&#x27;: [LogisticRegression(C=100,\n",
       "                                                       solver=&#x27;liblinear&#x27;)],\n",
       "                          &#x27;model__C&#x27;: [10, 20, 30, 40, 100],\n",
       "                          &#x27;model__penalty&#x27;: [&#x27;l1&#x27;, &#x27;l2&#x27;],\n",
       "                          &#x27;model__solver&#x27;: [&#x27;liblinear&#x27;]}],\n",
       "             refit=&#x27;accuracy&#x27;, scoring=[&#x27;accuracy&#x27;])</pre><b>In a Jupyter environment, please rerun this cell to show the HTML representation or trust the notebook. <br />On GitHub, the HTML representation is unable to render, please try loading this page with nbviewer.org.</b></div><div class=\"sk-container\" hidden><div class=\"sk-item sk-dashed-wrapped\"><div class=\"sk-label-container\"><div class=\"sk-label sk-toggleable\"><input class=\"sk-toggleable__control sk-hidden--visually\" id=\"sk-estimator-id-34\" type=\"checkbox\" ><label for=\"sk-estimator-id-34\" class=\"sk-toggleable__label sk-toggleable__label-arrow\">GridSearchCV</label><div class=\"sk-toggleable__content\"><pre>GridSearchCV(cv=30, estimator=Pipeline(steps=[(&#x27;model&#x27;, None)]),\n",
       "             param_grid=[{&#x27;model&#x27;: [LogisticRegression(C=100,\n",
       "                                                       solver=&#x27;liblinear&#x27;)],\n",
       "                          &#x27;model__C&#x27;: [10, 20, 30, 40, 100],\n",
       "                          &#x27;model__penalty&#x27;: [&#x27;l1&#x27;, &#x27;l2&#x27;],\n",
       "                          &#x27;model__solver&#x27;: [&#x27;liblinear&#x27;]}],\n",
       "             refit=&#x27;accuracy&#x27;, scoring=[&#x27;accuracy&#x27;])</pre></div></div></div><div class=\"sk-parallel\"><div class=\"sk-parallel-item\"><div class=\"sk-item\"><div class=\"sk-label-container\"><div class=\"sk-label sk-toggleable\"><input class=\"sk-toggleable__control sk-hidden--visually\" id=\"sk-estimator-id-35\" type=\"checkbox\" ><label for=\"sk-estimator-id-35\" class=\"sk-toggleable__label sk-toggleable__label-arrow\">estimator: Pipeline</label><div class=\"sk-toggleable__content\"><pre>Pipeline(steps=[(&#x27;model&#x27;, None)])</pre></div></div></div><div class=\"sk-serial\"><div class=\"sk-item\"><div class=\"sk-serial\"><div class=\"sk-item\"><div class=\"sk-estimator sk-toggleable\"><input class=\"sk-toggleable__control sk-hidden--visually\" id=\"sk-estimator-id-36\" type=\"checkbox\" ><label for=\"sk-estimator-id-36\" class=\"sk-toggleable__label sk-toggleable__label-arrow\">None</label><div class=\"sk-toggleable__content\"><pre>None</pre></div></div></div></div></div></div></div></div></div></div></div></div>"
      ],
      "text/plain": [
       "GridSearchCV(cv=30, estimator=Pipeline(steps=[('model', None)]),\n",
       "             param_grid=[{'model': [LogisticRegression(C=100,\n",
       "                                                       solver='liblinear')],\n",
       "                          'model__C': [10, 20, 30, 40, 100],\n",
       "                          'model__penalty': ['l1', 'l2'],\n",
       "                          'model__solver': ['liblinear']}],\n",
       "             refit='accuracy', scoring=['accuracy'])"
      ]
     },
     "execution_count": 59,
     "metadata": {},
     "output_type": "execute_result"
    }
   ],
   "source": [
    "param_grid_lr = [{\n",
    "    'model' : [LogisticRegression()],\n",
    "    'model__penalty': ['l1', 'l2'],  \n",
    "    'model__C': [10,20,30,40,100],  \n",
    "    'model__solver': ['liblinear'] \n",
    "}]\n",
    "\n",
    "grid_search_lr = GridSearchCV(pipe, param_grid=param_grid_lr, scoring=score, cv=30, refit='accuracy')\n",
    "grid_search_lr.fit(X_train_vectorized, y_train)"
   ]
  },
  {
   "cell_type": "code",
   "execution_count": 60,
   "metadata": {},
   "outputs": [
    {
     "name": "stdout",
     "output_type": "stream",
     "text": [
      "Pipeline(steps=[('model', LogisticRegression(C=100, solver='liblinear'))])\n",
      "0.8641885494370712\n",
      "{'model': LogisticRegression(C=100, solver='liblinear'), 'model__C': 100, 'model__penalty': 'l2', 'model__solver': 'liblinear'}\n"
     ]
    },
    {
     "data": {
      "text/html": [
       "<div>\n",
       "<style scoped>\n",
       "    .dataframe tbody tr th:only-of-type {\n",
       "        vertical-align: middle;\n",
       "    }\n",
       "\n",
       "    .dataframe tbody tr th {\n",
       "        vertical-align: top;\n",
       "    }\n",
       "\n",
       "    .dataframe thead th {\n",
       "        text-align: right;\n",
       "    }\n",
       "</style>\n",
       "<table border=\"1\" class=\"dataframe\">\n",
       "  <thead>\n",
       "    <tr style=\"text-align: right;\">\n",
       "      <th></th>\n",
       "      <th>mean_fit_time</th>\n",
       "      <th>std_fit_time</th>\n",
       "      <th>mean_score_time</th>\n",
       "      <th>std_score_time</th>\n",
       "      <th>param_model</th>\n",
       "      <th>param_model__C</th>\n",
       "      <th>param_model__penalty</th>\n",
       "      <th>param_model__solver</th>\n",
       "      <th>params</th>\n",
       "      <th>split0_test_accuracy</th>\n",
       "      <th>...</th>\n",
       "      <th>split23_test_accuracy</th>\n",
       "      <th>split24_test_accuracy</th>\n",
       "      <th>split25_test_accuracy</th>\n",
       "      <th>split26_test_accuracy</th>\n",
       "      <th>split27_test_accuracy</th>\n",
       "      <th>split28_test_accuracy</th>\n",
       "      <th>split29_test_accuracy</th>\n",
       "      <th>mean_test_accuracy</th>\n",
       "      <th>std_test_accuracy</th>\n",
       "      <th>rank_test_accuracy</th>\n",
       "    </tr>\n",
       "  </thead>\n",
       "  <tbody>\n",
       "    <tr>\n",
       "      <th>0</th>\n",
       "      <td>2.856523</td>\n",
       "      <td>0.293880</td>\n",
       "      <td>0.000853</td>\n",
       "      <td>0.000748</td>\n",
       "      <td>LogisticRegression(C=100, solver='liblinear')</td>\n",
       "      <td>10</td>\n",
       "      <td>l1</td>\n",
       "      <td>liblinear</td>\n",
       "      <td>{'model': LogisticRegression(C=100, solver='li...</td>\n",
       "      <td>0.847696</td>\n",
       "      <td>...</td>\n",
       "      <td>0.847204</td>\n",
       "      <td>0.849338</td>\n",
       "      <td>0.852326</td>\n",
       "      <td>0.855314</td>\n",
       "      <td>0.854033</td>\n",
       "      <td>0.849338</td>\n",
       "      <td>0.850619</td>\n",
       "      <td>0.855482</td>\n",
       "      <td>0.005696</td>\n",
       "      <td>5</td>\n",
       "    </tr>\n",
       "    <tr>\n",
       "      <th>1</th>\n",
       "      <td>4.964310</td>\n",
       "      <td>0.431560</td>\n",
       "      <td>0.002391</td>\n",
       "      <td>0.002601</td>\n",
       "      <td>LogisticRegression(C=100, solver='liblinear')</td>\n",
       "      <td>10</td>\n",
       "      <td>l2</td>\n",
       "      <td>liblinear</td>\n",
       "      <td>{'model': LogisticRegression(C=100, solver='li...</td>\n",
       "      <td>0.836604</td>\n",
       "      <td>...</td>\n",
       "      <td>0.851472</td>\n",
       "      <td>0.850192</td>\n",
       "      <td>0.851472</td>\n",
       "      <td>0.854887</td>\n",
       "      <td>0.842510</td>\n",
       "      <td>0.848058</td>\n",
       "      <td>0.843363</td>\n",
       "      <td>0.851727</td>\n",
       "      <td>0.006783</td>\n",
       "      <td>8</td>\n",
       "    </tr>\n",
       "    <tr>\n",
       "      <th>2</th>\n",
       "      <td>3.482688</td>\n",
       "      <td>0.397545</td>\n",
       "      <td>0.001565</td>\n",
       "      <td>0.001230</td>\n",
       "      <td>LogisticRegression(C=100, solver='liblinear')</td>\n",
       "      <td>20</td>\n",
       "      <td>l1</td>\n",
       "      <td>liblinear</td>\n",
       "      <td>{'model': LogisticRegression(C=100, solver='li...</td>\n",
       "      <td>0.850683</td>\n",
       "      <td>...</td>\n",
       "      <td>0.846351</td>\n",
       "      <td>0.845070</td>\n",
       "      <td>0.851046</td>\n",
       "      <td>0.852753</td>\n",
       "      <td>0.853606</td>\n",
       "      <td>0.849765</td>\n",
       "      <td>0.846351</td>\n",
       "      <td>0.854885</td>\n",
       "      <td>0.005895</td>\n",
       "      <td>6</td>\n",
       "    </tr>\n",
       "    <tr>\n",
       "      <th>3</th>\n",
       "      <td>5.895729</td>\n",
       "      <td>0.532427</td>\n",
       "      <td>0.002264</td>\n",
       "      <td>0.004685</td>\n",
       "      <td>LogisticRegression(C=100, solver='liblinear')</td>\n",
       "      <td>20</td>\n",
       "      <td>l2</td>\n",
       "      <td>liblinear</td>\n",
       "      <td>{'model': LogisticRegression(C=100, solver='li...</td>\n",
       "      <td>0.848123</td>\n",
       "      <td>...</td>\n",
       "      <td>0.855314</td>\n",
       "      <td>0.862143</td>\n",
       "      <td>0.859155</td>\n",
       "      <td>0.860862</td>\n",
       "      <td>0.854460</td>\n",
       "      <td>0.856594</td>\n",
       "      <td>0.853606</td>\n",
       "      <td>0.859693</td>\n",
       "      <td>0.005945</td>\n",
       "      <td>4</td>\n",
       "    </tr>\n",
       "    <tr>\n",
       "      <th>4</th>\n",
       "      <td>3.784069</td>\n",
       "      <td>0.561873</td>\n",
       "      <td>0.001072</td>\n",
       "      <td>0.001291</td>\n",
       "      <td>LogisticRegression(C=100, solver='liblinear')</td>\n",
       "      <td>30</td>\n",
       "      <td>l1</td>\n",
       "      <td>liblinear</td>\n",
       "      <td>{'model': LogisticRegression(C=100, solver='li...</td>\n",
       "      <td>0.853242</td>\n",
       "      <td>...</td>\n",
       "      <td>0.839522</td>\n",
       "      <td>0.842510</td>\n",
       "      <td>0.850619</td>\n",
       "      <td>0.848912</td>\n",
       "      <td>0.849765</td>\n",
       "      <td>0.847204</td>\n",
       "      <td>0.846778</td>\n",
       "      <td>0.853135</td>\n",
       "      <td>0.006472</td>\n",
       "      <td>7</td>\n",
       "    </tr>\n",
       "  </tbody>\n",
       "</table>\n",
       "<p>5 rows × 42 columns</p>\n",
       "</div>"
      ],
      "text/plain": [
       "   mean_fit_time  std_fit_time  mean_score_time  std_score_time  \\\n",
       "0       2.856523      0.293880         0.000853        0.000748   \n",
       "1       4.964310      0.431560         0.002391        0.002601   \n",
       "2       3.482688      0.397545         0.001565        0.001230   \n",
       "3       5.895729      0.532427         0.002264        0.004685   \n",
       "4       3.784069      0.561873         0.001072        0.001291   \n",
       "\n",
       "                                     param_model param_model__C  \\\n",
       "0  LogisticRegression(C=100, solver='liblinear')             10   \n",
       "1  LogisticRegression(C=100, solver='liblinear')             10   \n",
       "2  LogisticRegression(C=100, solver='liblinear')             20   \n",
       "3  LogisticRegression(C=100, solver='liblinear')             20   \n",
       "4  LogisticRegression(C=100, solver='liblinear')             30   \n",
       "\n",
       "  param_model__penalty param_model__solver  \\\n",
       "0                   l1           liblinear   \n",
       "1                   l2           liblinear   \n",
       "2                   l1           liblinear   \n",
       "3                   l2           liblinear   \n",
       "4                   l1           liblinear   \n",
       "\n",
       "                                              params  split0_test_accuracy  \\\n",
       "0  {'model': LogisticRegression(C=100, solver='li...              0.847696   \n",
       "1  {'model': LogisticRegression(C=100, solver='li...              0.836604   \n",
       "2  {'model': LogisticRegression(C=100, solver='li...              0.850683   \n",
       "3  {'model': LogisticRegression(C=100, solver='li...              0.848123   \n",
       "4  {'model': LogisticRegression(C=100, solver='li...              0.853242   \n",
       "\n",
       "   ...  split23_test_accuracy  split24_test_accuracy  split25_test_accuracy  \\\n",
       "0  ...               0.847204               0.849338               0.852326   \n",
       "1  ...               0.851472               0.850192               0.851472   \n",
       "2  ...               0.846351               0.845070               0.851046   \n",
       "3  ...               0.855314               0.862143               0.859155   \n",
       "4  ...               0.839522               0.842510               0.850619   \n",
       "\n",
       "   split26_test_accuracy  split27_test_accuracy  split28_test_accuracy  \\\n",
       "0               0.855314               0.854033               0.849338   \n",
       "1               0.854887               0.842510               0.848058   \n",
       "2               0.852753               0.853606               0.849765   \n",
       "3               0.860862               0.854460               0.856594   \n",
       "4               0.848912               0.849765               0.847204   \n",
       "\n",
       "   split29_test_accuracy  mean_test_accuracy  std_test_accuracy  \\\n",
       "0               0.850619            0.855482           0.005696   \n",
       "1               0.843363            0.851727           0.006783   \n",
       "2               0.846351            0.854885           0.005895   \n",
       "3               0.853606            0.859693           0.005945   \n",
       "4               0.846778            0.853135           0.006472   \n",
       "\n",
       "   rank_test_accuracy  \n",
       "0                   5  \n",
       "1                   8  \n",
       "2                   6  \n",
       "3                   4  \n",
       "4                   7  \n",
       "\n",
       "[5 rows x 42 columns]"
      ]
     },
     "execution_count": 60,
     "metadata": {},
     "output_type": "execute_result"
    }
   ],
   "source": [
    "print(grid_search_lr.best_estimator_)\n",
    "print(grid_search_lr.best_score_)\n",
    "print(grid_search_lr.best_params_)\n",
    "pd.DataFrame(grid_search_lr.cv_results_).head()"
   ]
  },
  {
   "attachments": {},
   "cell_type": "markdown",
   "metadata": {},
   "source": [
    "### NAIVE BAYES MODEL"
   ]
  },
  {
   "cell_type": "code",
   "execution_count": 57,
   "metadata": {},
   "outputs": [
    {
     "data": {
      "text/html": [
       "<style>#sk-container-id-11 {color: black;background-color: white;}#sk-container-id-11 pre{padding: 0;}#sk-container-id-11 div.sk-toggleable {background-color: white;}#sk-container-id-11 label.sk-toggleable__label {cursor: pointer;display: block;width: 100%;margin-bottom: 0;padding: 0.3em;box-sizing: border-box;text-align: center;}#sk-container-id-11 label.sk-toggleable__label-arrow:before {content: \"▸\";float: left;margin-right: 0.25em;color: #696969;}#sk-container-id-11 label.sk-toggleable__label-arrow:hover:before {color: black;}#sk-container-id-11 div.sk-estimator:hover label.sk-toggleable__label-arrow:before {color: black;}#sk-container-id-11 div.sk-toggleable__content {max-height: 0;max-width: 0;overflow: hidden;text-align: left;background-color: #f0f8ff;}#sk-container-id-11 div.sk-toggleable__content pre {margin: 0.2em;color: black;border-radius: 0.25em;background-color: #f0f8ff;}#sk-container-id-11 input.sk-toggleable__control:checked~div.sk-toggleable__content {max-height: 200px;max-width: 100%;overflow: auto;}#sk-container-id-11 input.sk-toggleable__control:checked~label.sk-toggleable__label-arrow:before {content: \"▾\";}#sk-container-id-11 div.sk-estimator input.sk-toggleable__control:checked~label.sk-toggleable__label {background-color: #d4ebff;}#sk-container-id-11 div.sk-label input.sk-toggleable__control:checked~label.sk-toggleable__label {background-color: #d4ebff;}#sk-container-id-11 input.sk-hidden--visually {border: 0;clip: rect(1px 1px 1px 1px);clip: rect(1px, 1px, 1px, 1px);height: 1px;margin: -1px;overflow: hidden;padding: 0;position: absolute;width: 1px;}#sk-container-id-11 div.sk-estimator {font-family: monospace;background-color: #f0f8ff;border: 1px dotted black;border-radius: 0.25em;box-sizing: border-box;margin-bottom: 0.5em;}#sk-container-id-11 div.sk-estimator:hover {background-color: #d4ebff;}#sk-container-id-11 div.sk-parallel-item::after {content: \"\";width: 100%;border-bottom: 1px solid gray;flex-grow: 1;}#sk-container-id-11 div.sk-label:hover label.sk-toggleable__label {background-color: #d4ebff;}#sk-container-id-11 div.sk-serial::before {content: \"\";position: absolute;border-left: 1px solid gray;box-sizing: border-box;top: 0;bottom: 0;left: 50%;z-index: 0;}#sk-container-id-11 div.sk-serial {display: flex;flex-direction: column;align-items: center;background-color: white;padding-right: 0.2em;padding-left: 0.2em;position: relative;}#sk-container-id-11 div.sk-item {position: relative;z-index: 1;}#sk-container-id-11 div.sk-parallel {display: flex;align-items: stretch;justify-content: center;background-color: white;position: relative;}#sk-container-id-11 div.sk-item::before, #sk-container-id-11 div.sk-parallel-item::before {content: \"\";position: absolute;border-left: 1px solid gray;box-sizing: border-box;top: 0;bottom: 0;left: 50%;z-index: -1;}#sk-container-id-11 div.sk-parallel-item {display: flex;flex-direction: column;z-index: 1;position: relative;background-color: white;}#sk-container-id-11 div.sk-parallel-item:first-child::after {align-self: flex-end;width: 50%;}#sk-container-id-11 div.sk-parallel-item:last-child::after {align-self: flex-start;width: 50%;}#sk-container-id-11 div.sk-parallel-item:only-child::after {width: 0;}#sk-container-id-11 div.sk-dashed-wrapped {border: 1px dashed gray;margin: 0 0.4em 0.5em 0.4em;box-sizing: border-box;padding-bottom: 0.4em;background-color: white;}#sk-container-id-11 div.sk-label label {font-family: monospace;font-weight: bold;display: inline-block;line-height: 1.2em;}#sk-container-id-11 div.sk-label-container {text-align: center;}#sk-container-id-11 div.sk-container {/* jupyter's `normalize.less` sets `[hidden] { display: none; }` but bootstrap.min.css set `[hidden] { display: none !important; }` so we also need the `!important` here to be able to override the default hidden behavior on the sphinx rendered scikit-learn.org. See: https://github.com/scikit-learn/scikit-learn/issues/21755 */display: inline-block !important;position: relative;}#sk-container-id-11 div.sk-text-repr-fallback {display: none;}</style><div id=\"sk-container-id-11\" class=\"sk-top-container\"><div class=\"sk-text-repr-fallback\"><pre>GridSearchCV(cv=50, estimator=Pipeline(steps=[(&#x27;model&#x27;, None)]),\n",
       "             param_grid=[{&#x27;model&#x27;: [BernoulliNB(alpha=0.1, binarize=None)],\n",
       "                          &#x27;model__alpha&#x27;: [0.1, 0.5, 1.0, 10.0, 100.0],\n",
       "                          &#x27;model__binarize&#x27;: [None, 0.0, 0.5],\n",
       "                          &#x27;model__fit_prior&#x27;: [True, False]}],\n",
       "             refit=&#x27;accuracy&#x27;, scoring=[&#x27;accuracy&#x27;])</pre><b>In a Jupyter environment, please rerun this cell to show the HTML representation or trust the notebook. <br />On GitHub, the HTML representation is unable to render, please try loading this page with nbviewer.org.</b></div><div class=\"sk-container\" hidden><div class=\"sk-item sk-dashed-wrapped\"><div class=\"sk-label-container\"><div class=\"sk-label sk-toggleable\"><input class=\"sk-toggleable__control sk-hidden--visually\" id=\"sk-estimator-id-31\" type=\"checkbox\" ><label for=\"sk-estimator-id-31\" class=\"sk-toggleable__label sk-toggleable__label-arrow\">GridSearchCV</label><div class=\"sk-toggleable__content\"><pre>GridSearchCV(cv=50, estimator=Pipeline(steps=[(&#x27;model&#x27;, None)]),\n",
       "             param_grid=[{&#x27;model&#x27;: [BernoulliNB(alpha=0.1, binarize=None)],\n",
       "                          &#x27;model__alpha&#x27;: [0.1, 0.5, 1.0, 10.0, 100.0],\n",
       "                          &#x27;model__binarize&#x27;: [None, 0.0, 0.5],\n",
       "                          &#x27;model__fit_prior&#x27;: [True, False]}],\n",
       "             refit=&#x27;accuracy&#x27;, scoring=[&#x27;accuracy&#x27;])</pre></div></div></div><div class=\"sk-parallel\"><div class=\"sk-parallel-item\"><div class=\"sk-item\"><div class=\"sk-label-container\"><div class=\"sk-label sk-toggleable\"><input class=\"sk-toggleable__control sk-hidden--visually\" id=\"sk-estimator-id-32\" type=\"checkbox\" ><label for=\"sk-estimator-id-32\" class=\"sk-toggleable__label sk-toggleable__label-arrow\">estimator: Pipeline</label><div class=\"sk-toggleable__content\"><pre>Pipeline(steps=[(&#x27;model&#x27;, None)])</pre></div></div></div><div class=\"sk-serial\"><div class=\"sk-item\"><div class=\"sk-serial\"><div class=\"sk-item\"><div class=\"sk-estimator sk-toggleable\"><input class=\"sk-toggleable__control sk-hidden--visually\" id=\"sk-estimator-id-33\" type=\"checkbox\" ><label for=\"sk-estimator-id-33\" class=\"sk-toggleable__label sk-toggleable__label-arrow\">None</label><div class=\"sk-toggleable__content\"><pre>None</pre></div></div></div></div></div></div></div></div></div></div></div></div>"
      ],
      "text/plain": [
       "GridSearchCV(cv=50, estimator=Pipeline(steps=[('model', None)]),\n",
       "             param_grid=[{'model': [BernoulliNB(alpha=0.1, binarize=None)],\n",
       "                          'model__alpha': [0.1, 0.5, 1.0, 10.0, 100.0],\n",
       "                          'model__binarize': [None, 0.0, 0.5],\n",
       "                          'model__fit_prior': [True, False]}],\n",
       "             refit='accuracy', scoring=['accuracy'])"
      ]
     },
     "execution_count": 57,
     "metadata": {},
     "output_type": "execute_result"
    }
   ],
   "source": [
    "param_grid_nb = [{\n",
    "    'model': [BernoulliNB()],\n",
    "    'model__alpha': [0.1, 0.5, 1.0, 10.0, 100.0],\n",
    "    'model__binarize': [None, 0.0, 0.5],\n",
    "    'model__fit_prior': [True, False],\n",
    "}]\n",
    "\n",
    "grid_search_nb = GridSearchCV(pipe, param_grid=param_grid_nb, scoring=score, cv=50, refit='accuracy')\n",
    "grid_search_nb.fit(X_train_vectorized, y_train)"
   ]
  },
  {
   "cell_type": "code",
   "execution_count": 58,
   "metadata": {},
   "outputs": [
    {
     "name": "stdout",
     "output_type": "stream",
     "text": [
      "Pipeline(steps=[('model', BernoulliNB(alpha=0.1, binarize=None))])\n",
      "0.8120801142029838\n",
      "{'model': BernoulliNB(alpha=0.1, binarize=None), 'model__alpha': 0.1, 'model__binarize': None, 'model__fit_prior': True}\n"
     ]
    },
    {
     "data": {
      "text/html": [
       "<div>\n",
       "<style scoped>\n",
       "    .dataframe tbody tr th:only-of-type {\n",
       "        vertical-align: middle;\n",
       "    }\n",
       "\n",
       "    .dataframe tbody tr th {\n",
       "        vertical-align: top;\n",
       "    }\n",
       "\n",
       "    .dataframe thead th {\n",
       "        text-align: right;\n",
       "    }\n",
       "</style>\n",
       "<table border=\"1\" class=\"dataframe\">\n",
       "  <thead>\n",
       "    <tr style=\"text-align: right;\">\n",
       "      <th></th>\n",
       "      <th>mean_fit_time</th>\n",
       "      <th>std_fit_time</th>\n",
       "      <th>mean_score_time</th>\n",
       "      <th>std_score_time</th>\n",
       "      <th>param_model</th>\n",
       "      <th>param_model__alpha</th>\n",
       "      <th>param_model__binarize</th>\n",
       "      <th>param_model__fit_prior</th>\n",
       "      <th>params</th>\n",
       "      <th>split0_test_accuracy</th>\n",
       "      <th>...</th>\n",
       "      <th>split43_test_accuracy</th>\n",
       "      <th>split44_test_accuracy</th>\n",
       "      <th>split45_test_accuracy</th>\n",
       "      <th>split46_test_accuracy</th>\n",
       "      <th>split47_test_accuracy</th>\n",
       "      <th>split48_test_accuracy</th>\n",
       "      <th>split49_test_accuracy</th>\n",
       "      <th>mean_test_accuracy</th>\n",
       "      <th>std_test_accuracy</th>\n",
       "      <th>rank_test_accuracy</th>\n",
       "    </tr>\n",
       "  </thead>\n",
       "  <tbody>\n",
       "    <tr>\n",
       "      <th>0</th>\n",
       "      <td>0.028659</td>\n",
       "      <td>0.004174</td>\n",
       "      <td>0.003849</td>\n",
       "      <td>0.001202</td>\n",
       "      <td>BernoulliNB(alpha=0.1, binarize=None)</td>\n",
       "      <td>0.1</td>\n",
       "      <td>None</td>\n",
       "      <td>True</td>\n",
       "      <td>{'model': BernoulliNB(alpha=0.1, binarize=None...</td>\n",
       "      <td>0.799431</td>\n",
       "      <td>...</td>\n",
       "      <td>0.815789</td>\n",
       "      <td>0.818634</td>\n",
       "      <td>0.807966</td>\n",
       "      <td>0.809253</td>\n",
       "      <td>0.814235</td>\n",
       "      <td>0.804982</td>\n",
       "      <td>0.803559</td>\n",
       "      <td>0.812080</td>\n",
       "      <td>0.008758</td>\n",
       "      <td>1</td>\n",
       "    </tr>\n",
       "    <tr>\n",
       "      <th>1</th>\n",
       "      <td>0.028776</td>\n",
       "      <td>0.004473</td>\n",
       "      <td>0.004196</td>\n",
       "      <td>0.001939</td>\n",
       "      <td>BernoulliNB(alpha=0.1, binarize=None)</td>\n",
       "      <td>0.1</td>\n",
       "      <td>None</td>\n",
       "      <td>False</td>\n",
       "      <td>{'model': BernoulliNB(alpha=0.1, binarize=None...</td>\n",
       "      <td>0.791607</td>\n",
       "      <td>...</td>\n",
       "      <td>0.802276</td>\n",
       "      <td>0.799431</td>\n",
       "      <td>0.782361</td>\n",
       "      <td>0.802135</td>\n",
       "      <td>0.804982</td>\n",
       "      <td>0.785053</td>\n",
       "      <td>0.792883</td>\n",
       "      <td>0.797570</td>\n",
       "      <td>0.008655</td>\n",
       "      <td>2</td>\n",
       "    </tr>\n",
       "    <tr>\n",
       "      <th>2</th>\n",
       "      <td>0.043633</td>\n",
       "      <td>0.007755</td>\n",
       "      <td>0.004160</td>\n",
       "      <td>0.001097</td>\n",
       "      <td>BernoulliNB(alpha=0.1, binarize=None)</td>\n",
       "      <td>0.1</td>\n",
       "      <td>0.0</td>\n",
       "      <td>True</td>\n",
       "      <td>{'model': BernoulliNB(alpha=0.1, binarize=None...</td>\n",
       "      <td>0.773826</td>\n",
       "      <td>...</td>\n",
       "      <td>0.780228</td>\n",
       "      <td>0.766714</td>\n",
       "      <td>0.751067</td>\n",
       "      <td>0.772954</td>\n",
       "      <td>0.778648</td>\n",
       "      <td>0.755872</td>\n",
       "      <td>0.754448</td>\n",
       "      <td>0.768863</td>\n",
       "      <td>0.010746</td>\n",
       "      <td>6</td>\n",
       "    </tr>\n",
       "    <tr>\n",
       "      <th>3</th>\n",
       "      <td>0.039206</td>\n",
       "      <td>0.005780</td>\n",
       "      <td>0.004041</td>\n",
       "      <td>0.002987</td>\n",
       "      <td>BernoulliNB(alpha=0.1, binarize=None)</td>\n",
       "      <td>0.1</td>\n",
       "      <td>0.0</td>\n",
       "      <td>False</td>\n",
       "      <td>{'model': BernoulliNB(alpha=0.1, binarize=None...</td>\n",
       "      <td>0.762447</td>\n",
       "      <td>...</td>\n",
       "      <td>0.773115</td>\n",
       "      <td>0.761735</td>\n",
       "      <td>0.741821</td>\n",
       "      <td>0.768683</td>\n",
       "      <td>0.777224</td>\n",
       "      <td>0.747331</td>\n",
       "      <td>0.748043</td>\n",
       "      <td>0.761764</td>\n",
       "      <td>0.010356</td>\n",
       "      <td>8</td>\n",
       "    </tr>\n",
       "    <tr>\n",
       "      <th>4</th>\n",
       "      <td>0.031765</td>\n",
       "      <td>0.006625</td>\n",
       "      <td>0.006776</td>\n",
       "      <td>0.015193</td>\n",
       "      <td>BernoulliNB(alpha=0.1, binarize=None)</td>\n",
       "      <td>0.1</td>\n",
       "      <td>0.5</td>\n",
       "      <td>True</td>\n",
       "      <td>{'model': BernoulliNB(alpha=0.1, binarize=None...</td>\n",
       "      <td>0.554054</td>\n",
       "      <td>...</td>\n",
       "      <td>0.551920</td>\n",
       "      <td>0.581081</td>\n",
       "      <td>0.554054</td>\n",
       "      <td>0.567260</td>\n",
       "      <td>0.545907</td>\n",
       "      <td>0.570107</td>\n",
       "      <td>0.570819</td>\n",
       "      <td>0.562607</td>\n",
       "      <td>0.012427</td>\n",
       "      <td>13</td>\n",
       "    </tr>\n",
       "  </tbody>\n",
       "</table>\n",
       "<p>5 rows × 62 columns</p>\n",
       "</div>"
      ],
      "text/plain": [
       "   mean_fit_time  std_fit_time  mean_score_time  std_score_time  \\\n",
       "0       0.028659      0.004174         0.003849        0.001202   \n",
       "1       0.028776      0.004473         0.004196        0.001939   \n",
       "2       0.043633      0.007755         0.004160        0.001097   \n",
       "3       0.039206      0.005780         0.004041        0.002987   \n",
       "4       0.031765      0.006625         0.006776        0.015193   \n",
       "\n",
       "                             param_model param_model__alpha  \\\n",
       "0  BernoulliNB(alpha=0.1, binarize=None)                0.1   \n",
       "1  BernoulliNB(alpha=0.1, binarize=None)                0.1   \n",
       "2  BernoulliNB(alpha=0.1, binarize=None)                0.1   \n",
       "3  BernoulliNB(alpha=0.1, binarize=None)                0.1   \n",
       "4  BernoulliNB(alpha=0.1, binarize=None)                0.1   \n",
       "\n",
       "  param_model__binarize param_model__fit_prior  \\\n",
       "0                  None                   True   \n",
       "1                  None                  False   \n",
       "2                   0.0                   True   \n",
       "3                   0.0                  False   \n",
       "4                   0.5                   True   \n",
       "\n",
       "                                              params  split0_test_accuracy  \\\n",
       "0  {'model': BernoulliNB(alpha=0.1, binarize=None...              0.799431   \n",
       "1  {'model': BernoulliNB(alpha=0.1, binarize=None...              0.791607   \n",
       "2  {'model': BernoulliNB(alpha=0.1, binarize=None...              0.773826   \n",
       "3  {'model': BernoulliNB(alpha=0.1, binarize=None...              0.762447   \n",
       "4  {'model': BernoulliNB(alpha=0.1, binarize=None...              0.554054   \n",
       "\n",
       "   ...  split43_test_accuracy  split44_test_accuracy  split45_test_accuracy  \\\n",
       "0  ...               0.815789               0.818634               0.807966   \n",
       "1  ...               0.802276               0.799431               0.782361   \n",
       "2  ...               0.780228               0.766714               0.751067   \n",
       "3  ...               0.773115               0.761735               0.741821   \n",
       "4  ...               0.551920               0.581081               0.554054   \n",
       "\n",
       "   split46_test_accuracy  split47_test_accuracy  split48_test_accuracy  \\\n",
       "0               0.809253               0.814235               0.804982   \n",
       "1               0.802135               0.804982               0.785053   \n",
       "2               0.772954               0.778648               0.755872   \n",
       "3               0.768683               0.777224               0.747331   \n",
       "4               0.567260               0.545907               0.570107   \n",
       "\n",
       "   split49_test_accuracy  mean_test_accuracy  std_test_accuracy  \\\n",
       "0               0.803559            0.812080           0.008758   \n",
       "1               0.792883            0.797570           0.008655   \n",
       "2               0.754448            0.768863           0.010746   \n",
       "3               0.748043            0.761764           0.010356   \n",
       "4               0.570819            0.562607           0.012427   \n",
       "\n",
       "   rank_test_accuracy  \n",
       "0                   1  \n",
       "1                   2  \n",
       "2                   6  \n",
       "3                   8  \n",
       "4                  13  \n",
       "\n",
       "[5 rows x 62 columns]"
      ]
     },
     "execution_count": 58,
     "metadata": {},
     "output_type": "execute_result"
    }
   ],
   "source": [
    "print(grid_search_nb.best_estimator_)\n",
    "print(grid_search_nb.best_score_)\n",
    "print(grid_search_nb.best_params_)\n",
    "pd.DataFrame(grid_search_nb.cv_results_).head()"
   ]
  },
  {
   "attachments": {},
   "cell_type": "markdown",
   "metadata": {},
   "source": [
    "### RANDOM FOREST CLASSIFIER"
   ]
  },
  {
   "cell_type": "code",
   "execution_count": 90,
   "metadata": {},
   "outputs": [
    {
     "name": "stdout",
     "output_type": "stream",
     "text": [
      "Fitting 5 folds for each of 1 candidates, totalling 5 fits\n",
      "[CV 1/5] END model=RandomForestClassifier(); accuracy: (test=0.908) total time= 9.5min\n",
      "[CV 2/5] END model=RandomForestClassifier(); accuracy: (test=0.915) total time= 9.5min\n",
      "[CV 3/5] END model=RandomForestClassifier(); accuracy: (test=0.910) total time=10.0min\n",
      "[CV 4/5] END model=RandomForestClassifier(); accuracy: (test=0.910) total time= 9.3min\n"
     ]
    }
   ],
   "source": [
    "param_grid_rf = [{\n",
    "    'model': [RandomForestClassifier()],\n",
    "    #'model__n_estimators': [100, 200, 500],\n",
    "    #'model__max_depth': [None, 5, 10],\n",
    "}]\n",
    "\n",
    "grid_search_rf = GridSearchCV(pipe, param_grid=param_grid_rf, scoring=score, cv=5, verbose=3,refit='accuracy')\n",
    "grid_search_rf.fit(X_train_vectorized, y_train)"
   ]
  },
  {
   "cell_type": "code",
   "execution_count": null,
   "metadata": {},
   "outputs": [],
   "source": [
    "print(grid_search_rf.best_estimator_)\n",
    "print(grid_search_rf.best_score_)\n",
    "print(grid_search_rf.best_params_)\n",
    "pd.DataFrame(grid_search_rf.cv_results_).head()"
   ]
  },
  {
   "attachments": {},
   "cell_type": "markdown",
   "metadata": {},
   "source": [
    "### GRADIENT BOOSTING CLASSIFIER"
   ]
  },
  {
   "cell_type": "code",
   "execution_count": null,
   "metadata": {},
   "outputs": [],
   "source": [
    "param_grid_gb = [{\n",
    "    'model': [GradientBoostingClassifier()],\n",
    "    'model__learning_rate': [0.1, 0.05],\n",
    "    'model__n_estimators': [100, 200, 500]\n",
    "}]\n",
    "\n",
    "grid_search_gb = GridSearchCV(pipe, param_grid=param_grid_gb, scoring=score, cv=30, refit='accuracy')\n",
    "grid_search_gb.fit(X_train_vectorized, y_train)"
   ]
  },
  {
   "cell_type": "code",
   "execution_count": null,
   "metadata": {},
   "outputs": [],
   "source": [
    "print(grid_search_gb.best_estimator_)\n",
    "print(grid_search_gb.best_score_)\n",
    "print(grid_search_gb.best_params_)\n",
    "pd.DataFrame(grid_search_gb.cv_results_).head()"
   ]
  },
  {
   "attachments": {},
   "cell_type": "markdown",
   "metadata": {},
   "source": [
    "#### DICTIONARY FOR MODEL NAME WITH MODEL"
   ]
  },
  {
   "cell_type": "code",
   "execution_count": null,
   "metadata": {},
   "outputs": [],
   "source": [
    "model = {\n",
    "    'LogisticRegression' : grid_search_lr,\n",
    "    'Support Vector Machine' : grid_search_svm,\n",
    "    'Naive Bayes' : grid_search_nb,\n",
    "    'Random Forest Classifier' : grid_search_rf,\n",
    "    'Gradient Boosting Classifier' : grid_search_gb\n",
    "}"
   ]
  },
  {
   "attachments": {},
   "cell_type": "markdown",
   "metadata": {},
   "source": [
    "#### PREDICTING ON THE TESTING DATA"
   ]
  },
  {
   "cell_type": "code",
   "execution_count": null,
   "metadata": {},
   "outputs": [],
   "source": [
    "print(\"Accuracy for different models is :\")\n",
    "print('-'*30)\n",
    "for grid_type, grid in model.items():\n",
    "    y_predict = grid.predict(X_test)\n",
    "    print(f\"Accuracy of {grid_type} is {accuracy_score(y_test, y_predict)*100} %\")\n",
    "print('-'*30)"
   ]
  },
  {
   "cell_type": "code",
   "execution_count": null,
   "metadata": {},
   "outputs": [],
   "source": []
  }
 ],
 "metadata": {
  "kernelspec": {
   "display_name": "data_streamlit",
   "language": "python",
   "name": "python3"
  },
  "language_info": {
   "codemirror_mode": {
    "name": "ipython",
    "version": 3
   },
   "file_extension": ".py",
   "mimetype": "text/x-python",
   "name": "python",
   "nbconvert_exporter": "python",
   "pygments_lexer": "ipython3",
   "version": "3.10.11"
  },
  "orig_nbformat": 4
 },
 "nbformat": 4,
 "nbformat_minor": 2
}
