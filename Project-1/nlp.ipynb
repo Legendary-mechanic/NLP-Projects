{
 "cells": [
  {
   "attachments": {},
   "cell_type": "markdown",
   "metadata": {},
   "source": [
    "# PROJECT-1 SENTIMENT ANALYSIS OF TWITTER TWEETS"
   ]
  },
  {
   "attachments": {},
   "cell_type": "markdown",
   "metadata": {},
   "source": [
    "#### IMPORTING NLTK FOR NLP"
   ]
  },
  {
   "cell_type": "code",
   "execution_count": 44,
   "metadata": {},
   "outputs": [],
   "source": [
    "from nltk.tokenize import word_tokenize\n",
    "from nltk.corpus import stopwords\n",
    "from nltk.stem import PorterStemmer\n",
    "import pandas as pd\n",
    "import numpy as np\n",
    "import re"
   ]
  },
  {
   "attachments": {},
   "cell_type": "markdown",
   "metadata": {},
   "source": [
    "#### LOADING THE TRAINING AND TESTING DATASETS"
   ]
  },
  {
   "cell_type": "code",
   "execution_count": 45,
   "metadata": {},
   "outputs": [],
   "source": [
    "df_train = pd.read_csv(\"twitter_training.csv\", names=['Tweet ID','Game Name','Label','Text'])\n",
    "df_test = pd.read_csv(\"twitter_validation.csv\", names=['Tweet ID','Game Name','Label','Text'])"
   ]
  },
  {
   "cell_type": "code",
   "execution_count": 46,
   "metadata": {},
   "outputs": [
    {
     "data": {
      "text/html": [
       "<div>\n",
       "<style scoped>\n",
       "    .dataframe tbody tr th:only-of-type {\n",
       "        vertical-align: middle;\n",
       "    }\n",
       "\n",
       "    .dataframe tbody tr th {\n",
       "        vertical-align: top;\n",
       "    }\n",
       "\n",
       "    .dataframe thead th {\n",
       "        text-align: right;\n",
       "    }\n",
       "</style>\n",
       "<table border=\"1\" class=\"dataframe\">\n",
       "  <thead>\n",
       "    <tr style=\"text-align: right;\">\n",
       "      <th></th>\n",
       "      <th>Tweet ID</th>\n",
       "      <th>Game Name</th>\n",
       "      <th>Label</th>\n",
       "      <th>Text</th>\n",
       "    </tr>\n",
       "  </thead>\n",
       "  <tbody>\n",
       "    <tr>\n",
       "      <th>0</th>\n",
       "      <td>2401</td>\n",
       "      <td>Borderlands</td>\n",
       "      <td>Positive</td>\n",
       "      <td>im getting on borderlands and i will murder yo...</td>\n",
       "    </tr>\n",
       "    <tr>\n",
       "      <th>1</th>\n",
       "      <td>2401</td>\n",
       "      <td>Borderlands</td>\n",
       "      <td>Positive</td>\n",
       "      <td>I am coming to the borders and I will kill you...</td>\n",
       "    </tr>\n",
       "    <tr>\n",
       "      <th>2</th>\n",
       "      <td>2401</td>\n",
       "      <td>Borderlands</td>\n",
       "      <td>Positive</td>\n",
       "      <td>im getting on borderlands and i will kill you ...</td>\n",
       "    </tr>\n",
       "    <tr>\n",
       "      <th>3</th>\n",
       "      <td>2401</td>\n",
       "      <td>Borderlands</td>\n",
       "      <td>Positive</td>\n",
       "      <td>im coming on borderlands and i will murder you...</td>\n",
       "    </tr>\n",
       "    <tr>\n",
       "      <th>4</th>\n",
       "      <td>2401</td>\n",
       "      <td>Borderlands</td>\n",
       "      <td>Positive</td>\n",
       "      <td>im getting on borderlands 2 and i will murder ...</td>\n",
       "    </tr>\n",
       "  </tbody>\n",
       "</table>\n",
       "</div>"
      ],
      "text/plain": [
       "   Tweet ID    Game Name     Label  \\\n",
       "0      2401  Borderlands  Positive   \n",
       "1      2401  Borderlands  Positive   \n",
       "2      2401  Borderlands  Positive   \n",
       "3      2401  Borderlands  Positive   \n",
       "4      2401  Borderlands  Positive   \n",
       "\n",
       "                                                Text  \n",
       "0  im getting on borderlands and i will murder yo...  \n",
       "1  I am coming to the borders and I will kill you...  \n",
       "2  im getting on borderlands and i will kill you ...  \n",
       "3  im coming on borderlands and i will murder you...  \n",
       "4  im getting on borderlands 2 and i will murder ...  "
      ]
     },
     "execution_count": 46,
     "metadata": {},
     "output_type": "execute_result"
    }
   ],
   "source": [
    "df_train.head()"
   ]
  },
  {
   "cell_type": "code",
   "execution_count": 47,
   "metadata": {},
   "outputs": [
    {
     "data": {
      "text/html": [
       "<div>\n",
       "<style scoped>\n",
       "    .dataframe tbody tr th:only-of-type {\n",
       "        vertical-align: middle;\n",
       "    }\n",
       "\n",
       "    .dataframe tbody tr th {\n",
       "        vertical-align: top;\n",
       "    }\n",
       "\n",
       "    .dataframe thead th {\n",
       "        text-align: right;\n",
       "    }\n",
       "</style>\n",
       "<table border=\"1\" class=\"dataframe\">\n",
       "  <thead>\n",
       "    <tr style=\"text-align: right;\">\n",
       "      <th></th>\n",
       "      <th>Tweet ID</th>\n",
       "      <th>Game Name</th>\n",
       "      <th>Label</th>\n",
       "      <th>Text</th>\n",
       "    </tr>\n",
       "  </thead>\n",
       "  <tbody>\n",
       "    <tr>\n",
       "      <th>0</th>\n",
       "      <td>3364</td>\n",
       "      <td>Facebook</td>\n",
       "      <td>Irrelevant</td>\n",
       "      <td>I mentioned on Facebook that I was struggling ...</td>\n",
       "    </tr>\n",
       "    <tr>\n",
       "      <th>1</th>\n",
       "      <td>352</td>\n",
       "      <td>Amazon</td>\n",
       "      <td>Neutral</td>\n",
       "      <td>BBC News - Amazon boss Jeff Bezos rejects clai...</td>\n",
       "    </tr>\n",
       "    <tr>\n",
       "      <th>2</th>\n",
       "      <td>8312</td>\n",
       "      <td>Microsoft</td>\n",
       "      <td>Negative</td>\n",
       "      <td>@Microsoft Why do I pay for WORD when it funct...</td>\n",
       "    </tr>\n",
       "    <tr>\n",
       "      <th>3</th>\n",
       "      <td>4371</td>\n",
       "      <td>CS-GO</td>\n",
       "      <td>Negative</td>\n",
       "      <td>CSGO matchmaking is so full of closet hacking,...</td>\n",
       "    </tr>\n",
       "    <tr>\n",
       "      <th>4</th>\n",
       "      <td>4433</td>\n",
       "      <td>Google</td>\n",
       "      <td>Neutral</td>\n",
       "      <td>Now the President is slapping Americans in the...</td>\n",
       "    </tr>\n",
       "  </tbody>\n",
       "</table>\n",
       "</div>"
      ],
      "text/plain": [
       "   Tweet ID  Game Name       Label  \\\n",
       "0      3364   Facebook  Irrelevant   \n",
       "1       352     Amazon     Neutral   \n",
       "2      8312  Microsoft    Negative   \n",
       "3      4371      CS-GO    Negative   \n",
       "4      4433     Google     Neutral   \n",
       "\n",
       "                                                Text  \n",
       "0  I mentioned on Facebook that I was struggling ...  \n",
       "1  BBC News - Amazon boss Jeff Bezos rejects clai...  \n",
       "2  @Microsoft Why do I pay for WORD when it funct...  \n",
       "3  CSGO matchmaking is so full of closet hacking,...  \n",
       "4  Now the President is slapping Americans in the...  "
      ]
     },
     "execution_count": 47,
     "metadata": {},
     "output_type": "execute_result"
    }
   ],
   "source": [
    "df_test.head()"
   ]
  },
  {
   "cell_type": "code",
   "execution_count": 48,
   "metadata": {},
   "outputs": [
    {
     "name": "stdout",
     "output_type": "stream",
     "text": [
      "<class 'pandas.core.frame.DataFrame'>\n",
      "RangeIndex: 74682 entries, 0 to 74681\n",
      "Data columns (total 4 columns):\n",
      " #   Column     Non-Null Count  Dtype \n",
      "---  ------     --------------  ----- \n",
      " 0   Tweet ID   74682 non-null  int64 \n",
      " 1   Game Name  74682 non-null  object\n",
      " 2   Label      74682 non-null  object\n",
      " 3   Text       73996 non-null  object\n",
      "dtypes: int64(1), object(3)\n",
      "memory usage: 2.3+ MB\n"
     ]
    }
   ],
   "source": [
    "df_train.info()"
   ]
  },
  {
   "cell_type": "code",
   "execution_count": 49,
   "metadata": {},
   "outputs": [
    {
     "data": {
      "text/plain": [
       "Tweet ID       0\n",
       "Game Name      0\n",
       "Label          0\n",
       "Text         686\n",
       "dtype: int64"
      ]
     },
     "execution_count": 49,
     "metadata": {},
     "output_type": "execute_result"
    }
   ],
   "source": [
    "df_train.isna().sum()"
   ]
  },
  {
   "cell_type": "code",
   "execution_count": 50,
   "metadata": {},
   "outputs": [
    {
     "data": {
      "text/plain": [
       "Tweet ID     0\n",
       "Game Name    0\n",
       "Label        0\n",
       "Text         0\n",
       "dtype: int64"
      ]
     },
     "execution_count": 50,
     "metadata": {},
     "output_type": "execute_result"
    }
   ],
   "source": [
    "df_test.isna().sum()"
   ]
  },
  {
   "attachments": {},
   "cell_type": "markdown",
   "metadata": {},
   "source": [
    "#### DROPPING NA VALUES"
   ]
  },
  {
   "cell_type": "code",
   "execution_count": 51,
   "metadata": {},
   "outputs": [
    {
     "data": {
      "text/plain": [
       "Tweet ID     0\n",
       "Game Name    0\n",
       "Label        0\n",
       "Text         0\n",
       "dtype: int64"
      ]
     },
     "execution_count": 51,
     "metadata": {},
     "output_type": "execute_result"
    }
   ],
   "source": [
    "# it is not possible to fill up empty tweets, so lets drop these rows\n",
    "df_train.dropna(axis=0, inplace=True)\n",
    "df_train.isna().sum()"
   ]
  },
  {
   "cell_type": "code",
   "execution_count": 52,
   "metadata": {},
   "outputs": [
    {
     "data": {
      "text/plain": [
       "(73996, 4)"
      ]
     },
     "execution_count": 52,
     "metadata": {},
     "output_type": "execute_result"
    }
   ],
   "source": [
    "df_train.shape"
   ]
  },
  {
   "cell_type": "code",
   "execution_count": 53,
   "metadata": {},
   "outputs": [
    {
     "data": {
      "text/plain": [
       "(1000, 4)"
      ]
     },
     "execution_count": 53,
     "metadata": {},
     "output_type": "execute_result"
    }
   ],
   "source": [
    "df_test.shape"
   ]
  },
  {
   "attachments": {},
   "cell_type": "markdown",
   "metadata": {},
   "source": [
    "#### DROPPING USELESS COLUMNS"
   ]
  },
  {
   "cell_type": "code",
   "execution_count": 54,
   "metadata": {},
   "outputs": [],
   "source": [
    "# DROP USELESS COLUMNS\n",
    "df_train.drop(columns=['Tweet ID','Game Name'], inplace=True)\n",
    "df_test.drop(columns=['Tweet ID','Game Name'], inplace=True)"
   ]
  },
  {
   "attachments": {},
   "cell_type": "markdown",
   "metadata": {},
   "source": [
    "#### GROUPING THE DATA ON LABEL VALUES"
   ]
  },
  {
   "attachments": {},
   "cell_type": "markdown",
   "metadata": {},
   "source": [
    "##### FOR TRAINING DATA"
   ]
  },
  {
   "cell_type": "code",
   "execution_count": 55,
   "metadata": {},
   "outputs": [
    {
     "data": {
      "text/plain": [
       "Negative      22358\n",
       "Positive      20655\n",
       "Neutral       18108\n",
       "Irrelevant    12875\n",
       "Name: Label, dtype: int64"
      ]
     },
     "execution_count": 55,
     "metadata": {},
     "output_type": "execute_result"
    }
   ],
   "source": [
    "df_train['Label'].value_counts()"
   ]
  },
  {
   "cell_type": "code",
   "execution_count": 56,
   "metadata": {},
   "outputs": [
    {
     "data": {
      "text/plain": [
       "Neutral     30983\n",
       "Negative    22358\n",
       "Positive    20655\n",
       "Name: Label, dtype: int64"
      ]
     },
     "execution_count": 56,
     "metadata": {},
     "output_type": "execute_result"
    }
   ],
   "source": [
    "# SINCE WE REGARD IRRELEVANT CLASSES AS NEUTRAL, LETS CHANGE SENTIMENT TO NEUTRAL FOR THEM\n",
    "df_train['Label'].replace(['Irrelevant'],['Neutral'], inplace=True)\n",
    "df_train['Label'].value_counts()"
   ]
  },
  {
   "attachments": {},
   "cell_type": "markdown",
   "metadata": {},
   "source": [
    "##### FOR TESTING DATA"
   ]
  },
  {
   "cell_type": "code",
   "execution_count": 57,
   "metadata": {},
   "outputs": [
    {
     "data": {
      "text/plain": [
       "Neutral       285\n",
       "Positive      277\n",
       "Negative      266\n",
       "Irrelevant    172\n",
       "Name: Label, dtype: int64"
      ]
     },
     "execution_count": 57,
     "metadata": {},
     "output_type": "execute_result"
    }
   ],
   "source": [
    "df_test['Label'].value_counts()"
   ]
  },
  {
   "cell_type": "code",
   "execution_count": 58,
   "metadata": {},
   "outputs": [
    {
     "data": {
      "text/plain": [
       "Neutral     457\n",
       "Positive    277\n",
       "Negative    266\n",
       "Name: Label, dtype: int64"
      ]
     },
     "execution_count": 58,
     "metadata": {},
     "output_type": "execute_result"
    }
   ],
   "source": [
    "# REPLACING IRRELEVANT WITH NEUTRAL\n",
    "df_test['Label'].replace(['Irrelevant'],['Neutral'], inplace=True)\n",
    "df_test['Label'].value_counts()"
   ]
  },
  {
   "attachments": {},
   "cell_type": "markdown",
   "metadata": {},
   "source": [
    "#### CREATING A FUNCTION TO PREPROCESS TEXT IN TEXT COLUMN"
   ]
  },
  {
   "cell_type": "code",
   "execution_count": 59,
   "metadata": {},
   "outputs": [],
   "source": [
    "def preprocess(text):\n",
    "    # string and regex preprocessing\n",
    "\n",
    "    # converting text to lower\n",
    "    text = text.lower()\n",
    "\n",
    "    # removing only digits\n",
    "    text = re.sub('\\d','',text)\n",
    "\n",
    "    # removing @ words\n",
    "    text = re.sub(r'@\\s?\\w+','',text)\n",
    "\n",
    "    # removing links from text\n",
    "    text = re.sub('https?://\\S+|www\\.\\S+','',text)\n",
    "    text = re.sub(r'\\spic\\.twitter\\.com\\s*/\\s*\\S+','',text)\n",
    "    text = re.sub(r\"dlvr\\.it\\s*/\\s*\\S+|dfr\\.it\\s*/\\s*\\S+\", \"\", text)\n",
    "    text = re.sub(r'\\spic\\.wikipedia\\.org\\s*/\\s*\\S+','',text)\n",
    "    \n",
    "    # removing special characters\n",
    "    text = re.sub('\\[.*?\\,]','',text)\n",
    "\n",
    "    # remove punctuation\n",
    "    text = re.sub('[^a-zA-Z0-9\\s]+', '', text)\n",
    "\n",
    "    # remove b2c type words (words containing numbers)\n",
    "    text = re.sub('\\w\\d\\w','',text)\n",
    "\n",
    "    # nltk preprocessing\n",
    "    words = word_tokenize(text)\n",
    "    ps = PorterStemmer()\n",
    "    stop_words = set(stopwords.words('english'))\n",
    "\n",
    "    words_cleaned = [word for word in words if not word in stop_words]\n",
    "\n",
    "    for i in range(0,len(words_cleaned)-1):\n",
    "        #stemming the words\n",
    "        words_cleaned[i]= ps.stem(words_cleaned[i])\n",
    "\n",
    "    text = ' '.join(words_cleaned)  \n",
    "    \n",
    "    # removing extra whitespaces if any\n",
    "    text = re.sub('\\s+',' ',text).strip()\n",
    "    return text"
   ]
  },
  {
   "attachments": {},
   "cell_type": "markdown",
   "metadata": {},
   "source": [
    "## PREPROCESSING THE DATA"
   ]
  },
  {
   "cell_type": "code",
   "execution_count": 60,
   "metadata": {},
   "outputs": [],
   "source": [
    "df_train['Text'] = df_train['Text'].apply(preprocess)\n",
    "df_test['Text'] = df_test['Text'].apply(preprocess)"
   ]
  },
  {
   "cell_type": "code",
   "execution_count": 61,
   "metadata": {},
   "outputs": [
    {
     "data": {
      "text/html": [
       "<div>\n",
       "<style scoped>\n",
       "    .dataframe tbody tr th:only-of-type {\n",
       "        vertical-align: middle;\n",
       "    }\n",
       "\n",
       "    .dataframe tbody tr th {\n",
       "        vertical-align: top;\n",
       "    }\n",
       "\n",
       "    .dataframe thead th {\n",
       "        text-align: right;\n",
       "    }\n",
       "</style>\n",
       "<table border=\"1\" class=\"dataframe\">\n",
       "  <thead>\n",
       "    <tr style=\"text-align: right;\">\n",
       "      <th></th>\n",
       "      <th>Label</th>\n",
       "      <th>Text</th>\n",
       "    </tr>\n",
       "  </thead>\n",
       "  <tbody>\n",
       "    <tr>\n",
       "      <th>0</th>\n",
       "      <td>Positive</td>\n",
       "      <td>im get borderland murder</td>\n",
       "    </tr>\n",
       "    <tr>\n",
       "      <th>1</th>\n",
       "      <td>Positive</td>\n",
       "      <td>come border kill</td>\n",
       "    </tr>\n",
       "    <tr>\n",
       "      <th>2</th>\n",
       "      <td>Positive</td>\n",
       "      <td>im get borderland kill</td>\n",
       "    </tr>\n",
       "    <tr>\n",
       "      <th>3</th>\n",
       "      <td>Positive</td>\n",
       "      <td>im come borderland murder</td>\n",
       "    </tr>\n",
       "    <tr>\n",
       "      <th>4</th>\n",
       "      <td>Positive</td>\n",
       "      <td>im get borderland murder</td>\n",
       "    </tr>\n",
       "  </tbody>\n",
       "</table>\n",
       "</div>"
      ],
      "text/plain": [
       "      Label                       Text\n",
       "0  Positive   im get borderland murder\n",
       "1  Positive           come border kill\n",
       "2  Positive     im get borderland kill\n",
       "3  Positive  im come borderland murder\n",
       "4  Positive   im get borderland murder"
      ]
     },
     "execution_count": 61,
     "metadata": {},
     "output_type": "execute_result"
    }
   ],
   "source": [
    "df_train.head()"
   ]
  },
  {
   "cell_type": "code",
   "execution_count": 62,
   "metadata": {},
   "outputs": [
    {
     "data": {
      "text/html": [
       "<div>\n",
       "<style scoped>\n",
       "    .dataframe tbody tr th:only-of-type {\n",
       "        vertical-align: middle;\n",
       "    }\n",
       "\n",
       "    .dataframe tbody tr th {\n",
       "        vertical-align: top;\n",
       "    }\n",
       "\n",
       "    .dataframe thead th {\n",
       "        text-align: right;\n",
       "    }\n",
       "</style>\n",
       "<table border=\"1\" class=\"dataframe\">\n",
       "  <thead>\n",
       "    <tr style=\"text-align: right;\">\n",
       "      <th></th>\n",
       "      <th>Label</th>\n",
       "      <th>Text</th>\n",
       "    </tr>\n",
       "  </thead>\n",
       "  <tbody>\n",
       "    <tr>\n",
       "      <th>0</th>\n",
       "      <td>Neutral</td>\n",
       "      <td>mention facebook struggl motiv go run day tran...</td>\n",
       "    </tr>\n",
       "    <tr>\n",
       "      <th>1</th>\n",
       "      <td>Neutral</td>\n",
       "      <td>bbc news amazon boss jeff bezo reject claim co...</td>\n",
       "    </tr>\n",
       "    <tr>\n",
       "      <th>2</th>\n",
       "      <td>Negative</td>\n",
       "      <td>pay word function poorli chromebook</td>\n",
       "    </tr>\n",
       "    <tr>\n",
       "      <th>3</th>\n",
       "      <td>Negative</td>\n",
       "      <td>csgo matchmak full closet hack truli aw game</td>\n",
       "    </tr>\n",
       "    <tr>\n",
       "      <th>4</th>\n",
       "      <td>Neutral</td>\n",
       "      <td>presid slap american face realli commit unlaw ...</td>\n",
       "    </tr>\n",
       "  </tbody>\n",
       "</table>\n",
       "</div>"
      ],
      "text/plain": [
       "      Label                                               Text\n",
       "0   Neutral  mention facebook struggl motiv go run day tran...\n",
       "1   Neutral  bbc news amazon boss jeff bezo reject claim co...\n",
       "2  Negative                pay word function poorli chromebook\n",
       "3  Negative       csgo matchmak full closet hack truli aw game\n",
       "4   Neutral  presid slap american face realli commit unlaw ..."
      ]
     },
     "execution_count": 62,
     "metadata": {},
     "output_type": "execute_result"
    }
   ],
   "source": [
    "df_test.head()"
   ]
  },
  {
   "attachments": {},
   "cell_type": "markdown",
   "metadata": {},
   "source": [
    "#### ONE HOT ENCODING MANUALLY FOR THE LABEL VALUES"
   ]
  },
  {
   "cell_type": "code",
   "execution_count": 63,
   "metadata": {},
   "outputs": [],
   "source": [
    "df_train['Label'].replace(['Neutral','Positive','Negative'],[0, 1, -1], inplace=True)\n",
    "df_test['Label'].replace(['Neutral','Positive','Negative'],[0, 1, -1], inplace=True)"
   ]
  },
  {
   "cell_type": "code",
   "execution_count": 64,
   "metadata": {},
   "outputs": [
    {
     "data": {
      "text/plain": [
       "array([ 1,  0, -1], dtype=int64)"
      ]
     },
     "execution_count": 64,
     "metadata": {},
     "output_type": "execute_result"
    }
   ],
   "source": [
    "df_train[\"Label\"].unique()"
   ]
  },
  {
   "cell_type": "code",
   "execution_count": 65,
   "metadata": {},
   "outputs": [
    {
     "data": {
      "text/plain": [
       "array([ 0, -1,  1], dtype=int64)"
      ]
     },
     "execution_count": 65,
     "metadata": {},
     "output_type": "execute_result"
    }
   ],
   "source": [
    "df_test[\"Label\"].unique()"
   ]
  },
  {
   "attachments": {},
   "cell_type": "markdown",
   "metadata": {},
   "source": [
    "#### IMPORTING NECESSARY LIBRARIES"
   ]
  },
  {
   "cell_type": "code",
   "execution_count": 66,
   "metadata": {},
   "outputs": [],
   "source": [
    "from sklearn.naive_bayes import MultinomialNB, BernoulliNB\n",
    "from sklearn.metrics import accuracy_score\n",
    "from sklearn.model_selection import train_test_split\n",
    "from sklearn.feature_extraction.text import TfidfVectorizer\n",
    "from sklearn.pipeline import Pipeline\n",
    "from sklearn.model_selection import GridSearchCV\n",
    "from sklearn.linear_model import LogisticRegression\n",
    "import sklearn\n",
    "from sklearn.svm import SVC\n",
    "from sklearn.ensemble import RandomForestClassifier, GradientBoostingClassifier"
   ]
  },
  {
   "attachments": {},
   "cell_type": "markdown",
   "metadata": {},
   "source": [
    "#### DEFINING THE TRAINING AND TESTING DATASETS"
   ]
  },
  {
   "cell_type": "code",
   "execution_count": 67,
   "metadata": {},
   "outputs": [],
   "source": [
    "X = df_train['Text']\n",
    "y = df_train[\"Label\"]\n",
    "\n",
    "X_train, X_test, y_train, y_test = train_test_split(X,y, test_size=0.05, random_state=1)\n",
    "\n",
    "X_testfinal = df_test['Text']\n",
    "y_testfinal = df_test['Label']"
   ]
  },
  {
   "attachments": {},
   "cell_type": "markdown",
   "metadata": {},
   "source": [
    "#### CONVERTING TEXT COLUMN INTO NUMERICAL FORMAT FOR MACHINE LEARNING"
   ]
  },
  {
   "cell_type": "code",
   "execution_count": 68,
   "metadata": {},
   "outputs": [],
   "source": [
    "vector = TfidfVectorizer().fit(X)\n",
    "\n",
    "X_train_vectorized = vector.transform(X_train)\n",
    "X_test_vectorized = vector.transform(X_test)\n",
    "X_testfinal_vectorized = vector.transform(X_testfinal)"
   ]
  },
  {
   "attachments": {},
   "cell_type": "markdown",
   "metadata": {},
   "source": [
    "## CREATING A PIPELINE AND SCORING METHOD"
   ]
  },
  {
   "cell_type": "code",
   "execution_count": 69,
   "metadata": {},
   "outputs": [],
   "source": [
    "pipe = Pipeline([\n",
    "    ('model', None)\n",
    "])\n",
    "score = ['accuracy']"
   ]
  },
  {
   "attachments": {},
   "cell_type": "markdown",
   "metadata": {},
   "source": [
    "### LOGISTIC REGRESSION MODEL"
   ]
  },
  {
   "cell_type": "code",
   "execution_count": null,
   "metadata": {},
   "outputs": [],
   "source": [
    "param_grid_lr = [{\n",
    "    'model' : [LogisticRegression()],\n",
    "    'model__penalty': ['l1', 'l2'],  \n",
    "    'model__C': [10,20,30,40,100],  \n",
    "    'model__solver': ['liblinear'] \n",
    "}]\n",
    "\n",
    "grid_search_lr = GridSearchCV(pipe, param_grid=param_grid_lr, scoring=score, cv=30, refit='accuracy')\n",
    "grid_search_lr.fit(X_train_vectorized, y_train)"
   ]
  },
  {
   "cell_type": "code",
   "execution_count": 73,
   "metadata": {},
   "outputs": [
    {
     "name": "stdout",
     "output_type": "stream",
     "text": [
      "Pipeline(steps=[('model', LogisticRegression(C=100, solver='liblinear'))])\n",
      "0.847487881749767\n",
      "{'model': LogisticRegression(C=100, solver='liblinear'), 'model__C': 100, 'model__penalty': 'l2', 'model__solver': 'liblinear'}\n"
     ]
    },
    {
     "data": {
      "text/html": [
       "<div>\n",
       "<style scoped>\n",
       "    .dataframe tbody tr th:only-of-type {\n",
       "        vertical-align: middle;\n",
       "    }\n",
       "\n",
       "    .dataframe tbody tr th {\n",
       "        vertical-align: top;\n",
       "    }\n",
       "\n",
       "    .dataframe thead th {\n",
       "        text-align: right;\n",
       "    }\n",
       "</style>\n",
       "<table border=\"1\" class=\"dataframe\">\n",
       "  <thead>\n",
       "    <tr style=\"text-align: right;\">\n",
       "      <th></th>\n",
       "      <th>mean_fit_time</th>\n",
       "      <th>std_fit_time</th>\n",
       "      <th>mean_score_time</th>\n",
       "      <th>std_score_time</th>\n",
       "      <th>param_model</th>\n",
       "      <th>param_model__C</th>\n",
       "      <th>param_model__penalty</th>\n",
       "      <th>param_model__solver</th>\n",
       "      <th>params</th>\n",
       "      <th>split0_test_accuracy</th>\n",
       "      <th>...</th>\n",
       "      <th>split23_test_accuracy</th>\n",
       "      <th>split24_test_accuracy</th>\n",
       "      <th>split25_test_accuracy</th>\n",
       "      <th>split26_test_accuracy</th>\n",
       "      <th>split27_test_accuracy</th>\n",
       "      <th>split28_test_accuracy</th>\n",
       "      <th>split29_test_accuracy</th>\n",
       "      <th>mean_test_accuracy</th>\n",
       "      <th>std_test_accuracy</th>\n",
       "      <th>rank_test_accuracy</th>\n",
       "    </tr>\n",
       "  </thead>\n",
       "  <tbody>\n",
       "    <tr>\n",
       "      <th>0</th>\n",
       "      <td>1.816621</td>\n",
       "      <td>0.181421</td>\n",
       "      <td>0.001623</td>\n",
       "      <td>0.001212</td>\n",
       "      <td>LogisticRegression(C=100, solver='liblinear')</td>\n",
       "      <td>10</td>\n",
       "      <td>l1</td>\n",
       "      <td>liblinear</td>\n",
       "      <td>{'model': LogisticRegression(C=100, solver='li...</td>\n",
       "      <td>0.834471</td>\n",
       "      <td>...</td>\n",
       "      <td>0.834400</td>\n",
       "      <td>0.840376</td>\n",
       "      <td>0.832693</td>\n",
       "      <td>0.840802</td>\n",
       "      <td>0.833547</td>\n",
       "      <td>0.840802</td>\n",
       "      <td>0.828852</td>\n",
       "      <td>0.839763</td>\n",
       "      <td>0.006572</td>\n",
       "      <td>5</td>\n",
       "    </tr>\n",
       "    <tr>\n",
       "      <th>1</th>\n",
       "      <td>3.076898</td>\n",
       "      <td>0.537444</td>\n",
       "      <td>0.002126</td>\n",
       "      <td>0.002747</td>\n",
       "      <td>LogisticRegression(C=100, solver='liblinear')</td>\n",
       "      <td>10</td>\n",
       "      <td>l2</td>\n",
       "      <td>liblinear</td>\n",
       "      <td>{'model': LogisticRegression(C=100, solver='li...</td>\n",
       "      <td>0.826365</td>\n",
       "      <td>...</td>\n",
       "      <td>0.838242</td>\n",
       "      <td>0.837388</td>\n",
       "      <td>0.827145</td>\n",
       "      <td>0.833547</td>\n",
       "      <td>0.829279</td>\n",
       "      <td>0.837815</td>\n",
       "      <td>0.820316</td>\n",
       "      <td>0.834301</td>\n",
       "      <td>0.007705</td>\n",
       "      <td>9</td>\n",
       "    </tr>\n",
       "    <tr>\n",
       "      <th>2</th>\n",
       "      <td>2.127244</td>\n",
       "      <td>0.274367</td>\n",
       "      <td>0.001031</td>\n",
       "      <td>0.003066</td>\n",
       "      <td>LogisticRegression(C=100, solver='liblinear')</td>\n",
       "      <td>20</td>\n",
       "      <td>l1</td>\n",
       "      <td>liblinear</td>\n",
       "      <td>{'model': LogisticRegression(C=100, solver='li...</td>\n",
       "      <td>0.836604</td>\n",
       "      <td>...</td>\n",
       "      <td>0.828852</td>\n",
       "      <td>0.842510</td>\n",
       "      <td>0.836961</td>\n",
       "      <td>0.839095</td>\n",
       "      <td>0.840376</td>\n",
       "      <td>0.833547</td>\n",
       "      <td>0.831840</td>\n",
       "      <td>0.839166</td>\n",
       "      <td>0.006201</td>\n",
       "      <td>6</td>\n",
       "    </tr>\n",
       "    <tr>\n",
       "      <th>3</th>\n",
       "      <td>4.320610</td>\n",
       "      <td>0.578385</td>\n",
       "      <td>0.001886</td>\n",
       "      <td>0.003380</td>\n",
       "      <td>LogisticRegression(C=100, solver='liblinear')</td>\n",
       "      <td>20</td>\n",
       "      <td>l2</td>\n",
       "      <td>liblinear</td>\n",
       "      <td>{'model': LogisticRegression(C=100, solver='li...</td>\n",
       "      <td>0.830205</td>\n",
       "      <td>...</td>\n",
       "      <td>0.843363</td>\n",
       "      <td>0.844217</td>\n",
       "      <td>0.835254</td>\n",
       "      <td>0.841229</td>\n",
       "      <td>0.840376</td>\n",
       "      <td>0.839522</td>\n",
       "      <td>0.833547</td>\n",
       "      <td>0.842367</td>\n",
       "      <td>0.007717</td>\n",
       "      <td>4</td>\n",
       "    </tr>\n",
       "    <tr>\n",
       "      <th>4</th>\n",
       "      <td>2.353102</td>\n",
       "      <td>0.278512</td>\n",
       "      <td>0.001228</td>\n",
       "      <td>0.000951</td>\n",
       "      <td>LogisticRegression(C=100, solver='liblinear')</td>\n",
       "      <td>30</td>\n",
       "      <td>l1</td>\n",
       "      <td>liblinear</td>\n",
       "      <td>{'model': LogisticRegression(C=100, solver='li...</td>\n",
       "      <td>0.836604</td>\n",
       "      <td>...</td>\n",
       "      <td>0.828852</td>\n",
       "      <td>0.845924</td>\n",
       "      <td>0.830986</td>\n",
       "      <td>0.839522</td>\n",
       "      <td>0.833120</td>\n",
       "      <td>0.827998</td>\n",
       "      <td>0.832693</td>\n",
       "      <td>0.837814</td>\n",
       "      <td>0.006168</td>\n",
       "      <td>7</td>\n",
       "    </tr>\n",
       "  </tbody>\n",
       "</table>\n",
       "<p>5 rows × 42 columns</p>\n",
       "</div>"
      ],
      "text/plain": [
       "   mean_fit_time  std_fit_time  mean_score_time  std_score_time  \\\n",
       "0       1.816621      0.181421         0.001623        0.001212   \n",
       "1       3.076898      0.537444         0.002126        0.002747   \n",
       "2       2.127244      0.274367         0.001031        0.003066   \n",
       "3       4.320610      0.578385         0.001886        0.003380   \n",
       "4       2.353102      0.278512         0.001228        0.000951   \n",
       "\n",
       "                                     param_model param_model__C  \\\n",
       "0  LogisticRegression(C=100, solver='liblinear')             10   \n",
       "1  LogisticRegression(C=100, solver='liblinear')             10   \n",
       "2  LogisticRegression(C=100, solver='liblinear')             20   \n",
       "3  LogisticRegression(C=100, solver='liblinear')             20   \n",
       "4  LogisticRegression(C=100, solver='liblinear')             30   \n",
       "\n",
       "  param_model__penalty param_model__solver  \\\n",
       "0                   l1           liblinear   \n",
       "1                   l2           liblinear   \n",
       "2                   l1           liblinear   \n",
       "3                   l2           liblinear   \n",
       "4                   l1           liblinear   \n",
       "\n",
       "                                              params  split0_test_accuracy  \\\n",
       "0  {'model': LogisticRegression(C=100, solver='li...              0.834471   \n",
       "1  {'model': LogisticRegression(C=100, solver='li...              0.826365   \n",
       "2  {'model': LogisticRegression(C=100, solver='li...              0.836604   \n",
       "3  {'model': LogisticRegression(C=100, solver='li...              0.830205   \n",
       "4  {'model': LogisticRegression(C=100, solver='li...              0.836604   \n",
       "\n",
       "   ...  split23_test_accuracy  split24_test_accuracy  split25_test_accuracy  \\\n",
       "0  ...               0.834400               0.840376               0.832693   \n",
       "1  ...               0.838242               0.837388               0.827145   \n",
       "2  ...               0.828852               0.842510               0.836961   \n",
       "3  ...               0.843363               0.844217               0.835254   \n",
       "4  ...               0.828852               0.845924               0.830986   \n",
       "\n",
       "   split26_test_accuracy  split27_test_accuracy  split28_test_accuracy  \\\n",
       "0               0.840802               0.833547               0.840802   \n",
       "1               0.833547               0.829279               0.837815   \n",
       "2               0.839095               0.840376               0.833547   \n",
       "3               0.841229               0.840376               0.839522   \n",
       "4               0.839522               0.833120               0.827998   \n",
       "\n",
       "   split29_test_accuracy  mean_test_accuracy  std_test_accuracy  \\\n",
       "0               0.828852            0.839763           0.006572   \n",
       "1               0.820316            0.834301           0.007705   \n",
       "2               0.831840            0.839166           0.006201   \n",
       "3               0.833547            0.842367           0.007717   \n",
       "4               0.832693            0.837814           0.006168   \n",
       "\n",
       "   rank_test_accuracy  \n",
       "0                   5  \n",
       "1                   9  \n",
       "2                   6  \n",
       "3                   4  \n",
       "4                   7  \n",
       "\n",
       "[5 rows x 42 columns]"
      ]
     },
     "execution_count": 73,
     "metadata": {},
     "output_type": "execute_result"
    }
   ],
   "source": [
    "print(grid_search_lr.best_estimator_)\n",
    "print(grid_search_lr.best_score_)\n",
    "print(grid_search_lr.best_params_)\n",
    "pd.DataFrame(grid_search_lr.cv_results_).head()"
   ]
  },
  {
   "attachments": {},
   "cell_type": "markdown",
   "metadata": {},
   "source": [
    "### NAIVE BAYES MODEL"
   ]
  },
  {
   "cell_type": "code",
   "execution_count": null,
   "metadata": {},
   "outputs": [],
   "source": [
    "param_grid_nb = [{\n",
    "    'model': [BernoulliNB()],\n",
    "    'model__alpha': [0.1, 0.5, 1.0, 10.0, 100.0],\n",
    "    'model__binarize': [None, 0.0, 0.5],\n",
    "    'model__fit_prior': [True, False],\n",
    "}]\n",
    "\n",
    "grid_search_nb = GridSearchCV(pipe, param_grid=param_grid_nb, scoring=score, cv=50, refit='accuracy')\n",
    "grid_search_nb.fit(X_train_vectorized, y_train)"
   ]
  },
  {
   "cell_type": "code",
   "execution_count": 71,
   "metadata": {},
   "outputs": [
    {
     "name": "stdout",
     "output_type": "stream",
     "text": [
      "Pipeline(steps=[('model', BernoulliNB(alpha=0.1, binarize=None))])\n",
      "0.799917111717449\n",
      "{'model': BernoulliNB(alpha=0.1, binarize=None), 'model__alpha': 0.1, 'model__binarize': None, 'model__fit_prior': True}\n"
     ]
    },
    {
     "data": {
      "text/html": [
       "<div>\n",
       "<style scoped>\n",
       "    .dataframe tbody tr th:only-of-type {\n",
       "        vertical-align: middle;\n",
       "    }\n",
       "\n",
       "    .dataframe tbody tr th {\n",
       "        vertical-align: top;\n",
       "    }\n",
       "\n",
       "    .dataframe thead th {\n",
       "        text-align: right;\n",
       "    }\n",
       "</style>\n",
       "<table border=\"1\" class=\"dataframe\">\n",
       "  <thead>\n",
       "    <tr style=\"text-align: right;\">\n",
       "      <th></th>\n",
       "      <th>mean_fit_time</th>\n",
       "      <th>std_fit_time</th>\n",
       "      <th>mean_score_time</th>\n",
       "      <th>std_score_time</th>\n",
       "      <th>param_model</th>\n",
       "      <th>param_model__alpha</th>\n",
       "      <th>param_model__binarize</th>\n",
       "      <th>param_model__fit_prior</th>\n",
       "      <th>params</th>\n",
       "      <th>split0_test_accuracy</th>\n",
       "      <th>...</th>\n",
       "      <th>split43_test_accuracy</th>\n",
       "      <th>split44_test_accuracy</th>\n",
       "      <th>split45_test_accuracy</th>\n",
       "      <th>split46_test_accuracy</th>\n",
       "      <th>split47_test_accuracy</th>\n",
       "      <th>split48_test_accuracy</th>\n",
       "      <th>split49_test_accuracy</th>\n",
       "      <th>mean_test_accuracy</th>\n",
       "      <th>std_test_accuracy</th>\n",
       "      <th>rank_test_accuracy</th>\n",
       "    </tr>\n",
       "  </thead>\n",
       "  <tbody>\n",
       "    <tr>\n",
       "      <th>0</th>\n",
       "      <td>0.026347</td>\n",
       "      <td>0.005082</td>\n",
       "      <td>0.003196</td>\n",
       "      <td>0.001535</td>\n",
       "      <td>BernoulliNB(alpha=0.1, binarize=None)</td>\n",
       "      <td>0.1</td>\n",
       "      <td>None</td>\n",
       "      <td>True</td>\n",
       "      <td>{'model': BernoulliNB(alpha=0.1, binarize=None...</td>\n",
       "      <td>0.778094</td>\n",
       "      <td>...</td>\n",
       "      <td>0.798009</td>\n",
       "      <td>0.793741</td>\n",
       "      <td>0.788051</td>\n",
       "      <td>0.790747</td>\n",
       "      <td>0.787900</td>\n",
       "      <td>0.796441</td>\n",
       "      <td>0.797865</td>\n",
       "      <td>0.799917</td>\n",
       "      <td>0.009211</td>\n",
       "      <td>1</td>\n",
       "    </tr>\n",
       "    <tr>\n",
       "      <th>1</th>\n",
       "      <td>0.020741</td>\n",
       "      <td>0.001910</td>\n",
       "      <td>0.002662</td>\n",
       "      <td>0.000621</td>\n",
       "      <td>BernoulliNB(alpha=0.1, binarize=None)</td>\n",
       "      <td>0.1</td>\n",
       "      <td>None</td>\n",
       "      <td>False</td>\n",
       "      <td>{'model': BernoulliNB(alpha=0.1, binarize=None...</td>\n",
       "      <td>0.776671</td>\n",
       "      <td>...</td>\n",
       "      <td>0.792319</td>\n",
       "      <td>0.777383</td>\n",
       "      <td>0.770982</td>\n",
       "      <td>0.777936</td>\n",
       "      <td>0.785765</td>\n",
       "      <td>0.775801</td>\n",
       "      <td>0.793594</td>\n",
       "      <td>0.785237</td>\n",
       "      <td>0.009587</td>\n",
       "      <td>2</td>\n",
       "    </tr>\n",
       "    <tr>\n",
       "      <th>2</th>\n",
       "      <td>0.029128</td>\n",
       "      <td>0.003167</td>\n",
       "      <td>0.002681</td>\n",
       "      <td>0.000562</td>\n",
       "      <td>BernoulliNB(alpha=0.1, binarize=None)</td>\n",
       "      <td>0.1</td>\n",
       "      <td>0.0</td>\n",
       "      <td>True</td>\n",
       "      <td>{'model': BernoulliNB(alpha=0.1, binarize=None...</td>\n",
       "      <td>0.766003</td>\n",
       "      <td>...</td>\n",
       "      <td>0.774538</td>\n",
       "      <td>0.763158</td>\n",
       "      <td>0.758179</td>\n",
       "      <td>0.762989</td>\n",
       "      <td>0.770819</td>\n",
       "      <td>0.767972</td>\n",
       "      <td>0.779359</td>\n",
       "      <td>0.771125</td>\n",
       "      <td>0.009195</td>\n",
       "      <td>5</td>\n",
       "    </tr>\n",
       "    <tr>\n",
       "      <th>3</th>\n",
       "      <td>0.027492</td>\n",
       "      <td>0.000963</td>\n",
       "      <td>0.002773</td>\n",
       "      <td>0.000544</td>\n",
       "      <td>BernoulliNB(alpha=0.1, binarize=None)</td>\n",
       "      <td>0.1</td>\n",
       "      <td>0.0</td>\n",
       "      <td>False</td>\n",
       "      <td>{'model': BernoulliNB(alpha=0.1, binarize=None...</td>\n",
       "      <td>0.753201</td>\n",
       "      <td>...</td>\n",
       "      <td>0.767425</td>\n",
       "      <td>0.761024</td>\n",
       "      <td>0.751778</td>\n",
       "      <td>0.755160</td>\n",
       "      <td>0.767972</td>\n",
       "      <td>0.758007</td>\n",
       "      <td>0.773665</td>\n",
       "      <td>0.763500</td>\n",
       "      <td>0.009317</td>\n",
       "      <td>7</td>\n",
       "    </tr>\n",
       "    <tr>\n",
       "      <th>4</th>\n",
       "      <td>0.027358</td>\n",
       "      <td>0.000992</td>\n",
       "      <td>0.002763</td>\n",
       "      <td>0.000587</td>\n",
       "      <td>BernoulliNB(alpha=0.1, binarize=None)</td>\n",
       "      <td>0.1</td>\n",
       "      <td>0.5</td>\n",
       "      <td>True</td>\n",
       "      <td>{'model': BernoulliNB(alpha=0.1, binarize=None...</td>\n",
       "      <td>0.593172</td>\n",
       "      <td>...</td>\n",
       "      <td>0.592461</td>\n",
       "      <td>0.616643</td>\n",
       "      <td>0.597440</td>\n",
       "      <td>0.603559</td>\n",
       "      <td>0.572954</td>\n",
       "      <td>0.600712</td>\n",
       "      <td>0.607829</td>\n",
       "      <td>0.599693</td>\n",
       "      <td>0.012567</td>\n",
       "      <td>13</td>\n",
       "    </tr>\n",
       "  </tbody>\n",
       "</table>\n",
       "<p>5 rows × 62 columns</p>\n",
       "</div>"
      ],
      "text/plain": [
       "   mean_fit_time  std_fit_time  mean_score_time  std_score_time  \\\n",
       "0       0.026347      0.005082         0.003196        0.001535   \n",
       "1       0.020741      0.001910         0.002662        0.000621   \n",
       "2       0.029128      0.003167         0.002681        0.000562   \n",
       "3       0.027492      0.000963         0.002773        0.000544   \n",
       "4       0.027358      0.000992         0.002763        0.000587   \n",
       "\n",
       "                             param_model param_model__alpha  \\\n",
       "0  BernoulliNB(alpha=0.1, binarize=None)                0.1   \n",
       "1  BernoulliNB(alpha=0.1, binarize=None)                0.1   \n",
       "2  BernoulliNB(alpha=0.1, binarize=None)                0.1   \n",
       "3  BernoulliNB(alpha=0.1, binarize=None)                0.1   \n",
       "4  BernoulliNB(alpha=0.1, binarize=None)                0.1   \n",
       "\n",
       "  param_model__binarize param_model__fit_prior  \\\n",
       "0                  None                   True   \n",
       "1                  None                  False   \n",
       "2                   0.0                   True   \n",
       "3                   0.0                  False   \n",
       "4                   0.5                   True   \n",
       "\n",
       "                                              params  split0_test_accuracy  \\\n",
       "0  {'model': BernoulliNB(alpha=0.1, binarize=None...              0.778094   \n",
       "1  {'model': BernoulliNB(alpha=0.1, binarize=None...              0.776671   \n",
       "2  {'model': BernoulliNB(alpha=0.1, binarize=None...              0.766003   \n",
       "3  {'model': BernoulliNB(alpha=0.1, binarize=None...              0.753201   \n",
       "4  {'model': BernoulliNB(alpha=0.1, binarize=None...              0.593172   \n",
       "\n",
       "   ...  split43_test_accuracy  split44_test_accuracy  split45_test_accuracy  \\\n",
       "0  ...               0.798009               0.793741               0.788051   \n",
       "1  ...               0.792319               0.777383               0.770982   \n",
       "2  ...               0.774538               0.763158               0.758179   \n",
       "3  ...               0.767425               0.761024               0.751778   \n",
       "4  ...               0.592461               0.616643               0.597440   \n",
       "\n",
       "   split46_test_accuracy  split47_test_accuracy  split48_test_accuracy  \\\n",
       "0               0.790747               0.787900               0.796441   \n",
       "1               0.777936               0.785765               0.775801   \n",
       "2               0.762989               0.770819               0.767972   \n",
       "3               0.755160               0.767972               0.758007   \n",
       "4               0.603559               0.572954               0.600712   \n",
       "\n",
       "   split49_test_accuracy  mean_test_accuracy  std_test_accuracy  \\\n",
       "0               0.797865            0.799917           0.009211   \n",
       "1               0.793594            0.785237           0.009587   \n",
       "2               0.779359            0.771125           0.009195   \n",
       "3               0.773665            0.763500           0.009317   \n",
       "4               0.607829            0.599693           0.012567   \n",
       "\n",
       "   rank_test_accuracy  \n",
       "0                   1  \n",
       "1                   2  \n",
       "2                   5  \n",
       "3                   7  \n",
       "4                  13  \n",
       "\n",
       "[5 rows x 62 columns]"
      ]
     },
     "execution_count": 71,
     "metadata": {},
     "output_type": "execute_result"
    }
   ],
   "source": [
    "print(grid_search_nb.best_estimator_)\n",
    "print(grid_search_nb.best_score_)\n",
    "print(grid_search_nb.best_params_)\n",
    "pd.DataFrame(grid_search_nb.cv_results_).head()"
   ]
  },
  {
   "attachments": {},
   "cell_type": "markdown",
   "metadata": {},
   "source": [
    "### RANDOM FOREST CLASSIFIER"
   ]
  },
  {
   "cell_type": "code",
   "execution_count": null,
   "metadata": {},
   "outputs": [],
   "source": [
    "param_grid_rf = [{\n",
    "    'model': [RandomForestClassifier()],\n",
    "    'model__n_estimators': [None, 100,200],\n",
    "    'model__max_depth': [None],\n",
    "}]\n",
    "\n",
    "grid_search_rf = GridSearchCV(pipe, param_grid=param_grid_rf, scoring=score, cv=2,refit='accuracy')\n",
    "grid_search_rf.fit(X_train_vectorized, y_train)"
   ]
  },
  {
   "cell_type": "code",
   "execution_count": 75,
   "metadata": {},
   "outputs": [
    {
     "name": "stdout",
     "output_type": "stream",
     "text": [
      "Pipeline(steps=[('model', RandomForestClassifier(n_estimators=200))])\n",
      "0.8715005121201775\n",
      "{'model': RandomForestClassifier(n_estimators=200), 'model__max_depth': None, 'model__n_estimators': 200}\n"
     ]
    },
    {
     "data": {
      "text/html": [
       "<div>\n",
       "<style scoped>\n",
       "    .dataframe tbody tr th:only-of-type {\n",
       "        vertical-align: middle;\n",
       "    }\n",
       "\n",
       "    .dataframe tbody tr th {\n",
       "        vertical-align: top;\n",
       "    }\n",
       "\n",
       "    .dataframe thead th {\n",
       "        text-align: right;\n",
       "    }\n",
       "</style>\n",
       "<table border=\"1\" class=\"dataframe\">\n",
       "  <thead>\n",
       "    <tr style=\"text-align: right;\">\n",
       "      <th></th>\n",
       "      <th>mean_fit_time</th>\n",
       "      <th>std_fit_time</th>\n",
       "      <th>mean_score_time</th>\n",
       "      <th>std_score_time</th>\n",
       "      <th>param_model</th>\n",
       "      <th>param_model__max_depth</th>\n",
       "      <th>param_model__n_estimators</th>\n",
       "      <th>params</th>\n",
       "      <th>split0_test_accuracy</th>\n",
       "      <th>split1_test_accuracy</th>\n",
       "      <th>mean_test_accuracy</th>\n",
       "      <th>std_test_accuracy</th>\n",
       "      <th>rank_test_accuracy</th>\n",
       "    </tr>\n",
       "  </thead>\n",
       "  <tbody>\n",
       "    <tr>\n",
       "      <th>0</th>\n",
       "      <td>386.265844</td>\n",
       "      <td>46.662919</td>\n",
       "      <td>3.674854</td>\n",
       "      <td>0.094804</td>\n",
       "      <td>RandomForestClassifier(n_estimators=200)</td>\n",
       "      <td>None</td>\n",
       "      <td>100</td>\n",
       "      <td>{'model': RandomForestClassifier(n_estimators=...</td>\n",
       "      <td>0.867987</td>\n",
       "      <td>0.866621</td>\n",
       "      <td>0.867304</td>\n",
       "      <td>0.000683</td>\n",
       "      <td>2</td>\n",
       "    </tr>\n",
       "    <tr>\n",
       "      <th>1</th>\n",
       "      <td>718.792021</td>\n",
       "      <td>5.883594</td>\n",
       "      <td>7.687275</td>\n",
       "      <td>0.180541</td>\n",
       "      <td>RandomForestClassifier(n_estimators=200)</td>\n",
       "      <td>None</td>\n",
       "      <td>200</td>\n",
       "      <td>{'model': RandomForestClassifier(n_estimators=...</td>\n",
       "      <td>0.872226</td>\n",
       "      <td>0.870775</td>\n",
       "      <td>0.871501</td>\n",
       "      <td>0.000726</td>\n",
       "      <td>1</td>\n",
       "    </tr>\n",
       "    <tr>\n",
       "      <th>2</th>\n",
       "      <td>3.045245</td>\n",
       "      <td>0.103063</td>\n",
       "      <td>0.283960</td>\n",
       "      <td>0.009419</td>\n",
       "      <td>RandomForestClassifier(n_estimators=200)</td>\n",
       "      <td>5</td>\n",
       "      <td>100</td>\n",
       "      <td>{'model': RandomForestClassifier(n_estimators=...</td>\n",
       "      <td>0.420337</td>\n",
       "      <td>0.418175</td>\n",
       "      <td>0.419256</td>\n",
       "      <td>0.001081</td>\n",
       "      <td>3</td>\n",
       "    </tr>\n",
       "    <tr>\n",
       "      <th>3</th>\n",
       "      <td>5.654099</td>\n",
       "      <td>0.062845</td>\n",
       "      <td>0.541819</td>\n",
       "      <td>0.036461</td>\n",
       "      <td>RandomForestClassifier(n_estimators=200)</td>\n",
       "      <td>5</td>\n",
       "      <td>200</td>\n",
       "      <td>{'model': RandomForestClassifier(n_estimators=...</td>\n",
       "      <td>0.419682</td>\n",
       "      <td>0.418317</td>\n",
       "      <td>0.419000</td>\n",
       "      <td>0.000683</td>\n",
       "      <td>4</td>\n",
       "    </tr>\n",
       "  </tbody>\n",
       "</table>\n",
       "</div>"
      ],
      "text/plain": [
       "   mean_fit_time  std_fit_time  mean_score_time  std_score_time  \\\n",
       "0     386.265844     46.662919         3.674854        0.094804   \n",
       "1     718.792021      5.883594         7.687275        0.180541   \n",
       "2       3.045245      0.103063         0.283960        0.009419   \n",
       "3       5.654099      0.062845         0.541819        0.036461   \n",
       "\n",
       "                                param_model param_model__max_depth  \\\n",
       "0  RandomForestClassifier(n_estimators=200)                   None   \n",
       "1  RandomForestClassifier(n_estimators=200)                   None   \n",
       "2  RandomForestClassifier(n_estimators=200)                      5   \n",
       "3  RandomForestClassifier(n_estimators=200)                      5   \n",
       "\n",
       "  param_model__n_estimators  \\\n",
       "0                       100   \n",
       "1                       200   \n",
       "2                       100   \n",
       "3                       200   \n",
       "\n",
       "                                              params  split0_test_accuracy  \\\n",
       "0  {'model': RandomForestClassifier(n_estimators=...              0.867987   \n",
       "1  {'model': RandomForestClassifier(n_estimators=...              0.872226   \n",
       "2  {'model': RandomForestClassifier(n_estimators=...              0.420337   \n",
       "3  {'model': RandomForestClassifier(n_estimators=...              0.419682   \n",
       "\n",
       "   split1_test_accuracy  mean_test_accuracy  std_test_accuracy  \\\n",
       "0              0.866621            0.867304           0.000683   \n",
       "1              0.870775            0.871501           0.000726   \n",
       "2              0.418175            0.419256           0.001081   \n",
       "3              0.418317            0.419000           0.000683   \n",
       "\n",
       "   rank_test_accuracy  \n",
       "0                   2  \n",
       "1                   1  \n",
       "2                   3  \n",
       "3                   4  "
      ]
     },
     "execution_count": 75,
     "metadata": {},
     "output_type": "execute_result"
    }
   ],
   "source": [
    "print(grid_search_rf.best_estimator_)\n",
    "print(grid_search_rf.best_score_)\n",
    "print(grid_search_rf.best_params_)\n",
    "pd.DataFrame(grid_search_rf.cv_results_).head()"
   ]
  },
  {
   "attachments": {},
   "cell_type": "markdown",
   "metadata": {},
   "source": [
    "### GRADIENT BOOSTING CLASSIFIER"
   ]
  },
  {
   "cell_type": "code",
   "execution_count": null,
   "metadata": {},
   "outputs": [],
   "source": [
    "param_grid_gb = [{\n",
    "    'model': [GradientBoostingClassifier()],\n",
    "    'model__learning_rate': [0.1, 0.05],\n",
    "    'model__n_estimators': [100, 200]\n",
    "}]\n",
    "\n",
    "grid_search_gb = GridSearchCV(pipe, param_grid=param_grid_gb, scoring=score, cv=2, refit='accuracy')\n",
    "grid_search_gb.fit(X_train_vectorized, y_train)"
   ]
  },
  {
   "cell_type": "code",
   "execution_count": 78,
   "metadata": {},
   "outputs": [
    {
     "name": "stdout",
     "output_type": "stream",
     "text": [
      "Pipeline(steps=[('model', GradientBoostingClassifier(n_estimators=200))])\n",
      "0.6089677933310573\n",
      "{'model': GradientBoostingClassifier(n_estimators=200), 'model__learning_rate': 0.1, 'model__n_estimators': 200}\n"
     ]
    },
    {
     "data": {
      "text/html": [
       "<div>\n",
       "<style scoped>\n",
       "    .dataframe tbody tr th:only-of-type {\n",
       "        vertical-align: middle;\n",
       "    }\n",
       "\n",
       "    .dataframe tbody tr th {\n",
       "        vertical-align: top;\n",
       "    }\n",
       "\n",
       "    .dataframe thead th {\n",
       "        text-align: right;\n",
       "    }\n",
       "</style>\n",
       "<table border=\"1\" class=\"dataframe\">\n",
       "  <thead>\n",
       "    <tr style=\"text-align: right;\">\n",
       "      <th></th>\n",
       "      <th>mean_fit_time</th>\n",
       "      <th>std_fit_time</th>\n",
       "      <th>mean_score_time</th>\n",
       "      <th>std_score_time</th>\n",
       "      <th>param_model</th>\n",
       "      <th>param_model__learning_rate</th>\n",
       "      <th>param_model__n_estimators</th>\n",
       "      <th>params</th>\n",
       "      <th>split0_test_accuracy</th>\n",
       "      <th>split1_test_accuracy</th>\n",
       "      <th>mean_test_accuracy</th>\n",
       "      <th>std_test_accuracy</th>\n",
       "      <th>rank_test_accuracy</th>\n",
       "    </tr>\n",
       "  </thead>\n",
       "  <tbody>\n",
       "    <tr>\n",
       "      <th>0</th>\n",
       "      <td>239.863303</td>\n",
       "      <td>0.696869</td>\n",
       "      <td>0.121361</td>\n",
       "      <td>0.005039</td>\n",
       "      <td>GradientBoostingClassifier(n_estimators=200)</td>\n",
       "      <td>0.1</td>\n",
       "      <td>100</td>\n",
       "      <td>{'model': GradientBoostingClassifier(n_estimat...</td>\n",
       "      <td>0.578667</td>\n",
       "      <td>0.573774</td>\n",
       "      <td>0.576221</td>\n",
       "      <td>0.002447</td>\n",
       "      <td>2</td>\n",
       "    </tr>\n",
       "    <tr>\n",
       "      <th>1</th>\n",
       "      <td>497.805838</td>\n",
       "      <td>8.948460</td>\n",
       "      <td>0.303553</td>\n",
       "      <td>0.003573</td>\n",
       "      <td>GradientBoostingClassifier(n_estimators=200)</td>\n",
       "      <td>0.1</td>\n",
       "      <td>200</td>\n",
       "      <td>{'model': GradientBoostingClassifier(n_estimat...</td>\n",
       "      <td>0.609793</td>\n",
       "      <td>0.608143</td>\n",
       "      <td>0.608968</td>\n",
       "      <td>0.000825</td>\n",
       "      <td>1</td>\n",
       "    </tr>\n",
       "    <tr>\n",
       "      <th>2</th>\n",
       "      <td>251.128856</td>\n",
       "      <td>2.699944</td>\n",
       "      <td>0.126179</td>\n",
       "      <td>0.001179</td>\n",
       "      <td>GradientBoostingClassifier(n_estimators=200)</td>\n",
       "      <td>0.05</td>\n",
       "      <td>100</td>\n",
       "      <td>{'model': GradientBoostingClassifier(n_estimat...</td>\n",
       "      <td>0.543047</td>\n",
       "      <td>0.539433</td>\n",
       "      <td>0.541240</td>\n",
       "      <td>0.001807</td>\n",
       "      <td>4</td>\n",
       "    </tr>\n",
       "    <tr>\n",
       "      <th>3</th>\n",
       "      <td>524.144358</td>\n",
       "      <td>25.615560</td>\n",
       "      <td>0.291317</td>\n",
       "      <td>0.003318</td>\n",
       "      <td>GradientBoostingClassifier(n_estimators=200)</td>\n",
       "      <td>0.05</td>\n",
       "      <td>200</td>\n",
       "      <td>{'model': GradientBoostingClassifier(n_estimat...</td>\n",
       "      <td>0.575424</td>\n",
       "      <td>0.573347</td>\n",
       "      <td>0.574385</td>\n",
       "      <td>0.001038</td>\n",
       "      <td>3</td>\n",
       "    </tr>\n",
       "  </tbody>\n",
       "</table>\n",
       "</div>"
      ],
      "text/plain": [
       "   mean_fit_time  std_fit_time  mean_score_time  std_score_time  \\\n",
       "0     239.863303      0.696869         0.121361        0.005039   \n",
       "1     497.805838      8.948460         0.303553        0.003573   \n",
       "2     251.128856      2.699944         0.126179        0.001179   \n",
       "3     524.144358     25.615560         0.291317        0.003318   \n",
       "\n",
       "                                    param_model param_model__learning_rate  \\\n",
       "0  GradientBoostingClassifier(n_estimators=200)                        0.1   \n",
       "1  GradientBoostingClassifier(n_estimators=200)                        0.1   \n",
       "2  GradientBoostingClassifier(n_estimators=200)                       0.05   \n",
       "3  GradientBoostingClassifier(n_estimators=200)                       0.05   \n",
       "\n",
       "  param_model__n_estimators  \\\n",
       "0                       100   \n",
       "1                       200   \n",
       "2                       100   \n",
       "3                       200   \n",
       "\n",
       "                                              params  split0_test_accuracy  \\\n",
       "0  {'model': GradientBoostingClassifier(n_estimat...              0.578667   \n",
       "1  {'model': GradientBoostingClassifier(n_estimat...              0.609793   \n",
       "2  {'model': GradientBoostingClassifier(n_estimat...              0.543047   \n",
       "3  {'model': GradientBoostingClassifier(n_estimat...              0.575424   \n",
       "\n",
       "   split1_test_accuracy  mean_test_accuracy  std_test_accuracy  \\\n",
       "0              0.573774            0.576221           0.002447   \n",
       "1              0.608143            0.608968           0.000825   \n",
       "2              0.539433            0.541240           0.001807   \n",
       "3              0.573347            0.574385           0.001038   \n",
       "\n",
       "   rank_test_accuracy  \n",
       "0                   2  \n",
       "1                   1  \n",
       "2                   4  \n",
       "3                   3  "
      ]
     },
     "execution_count": 78,
     "metadata": {},
     "output_type": "execute_result"
    }
   ],
   "source": [
    "print(grid_search_gb.best_estimator_)\n",
    "print(grid_search_gb.best_score_)\n",
    "print(grid_search_gb.best_params_)\n",
    "pd.DataFrame(grid_search_gb.cv_results_).head()"
   ]
  },
  {
   "attachments": {},
   "cell_type": "markdown",
   "metadata": {},
   "source": [
    "#### DICTIONARY FOR MODEL NAME WITH MODEL"
   ]
  },
  {
   "cell_type": "code",
   "execution_count": 80,
   "metadata": {},
   "outputs": [],
   "source": [
    "model = {\n",
    "    'LogisticRegression' : grid_search_lr,\n",
    "    'Naive Bayes' : grid_search_nb,\n",
    "    'Random Forest Classifier' : grid_search_rf,\n",
    "    'Gradient Boosting Classifier' : grid_search_gb\n",
    "}"
   ]
  },
  {
   "attachments": {},
   "cell_type": "markdown",
   "metadata": {},
   "source": [
    "#### PREDICTING ON THE TESTING DATA"
   ]
  },
  {
   "cell_type": "code",
   "execution_count": 83,
   "metadata": {},
   "outputs": [
    {
     "name": "stdout",
     "output_type": "stream",
     "text": [
      "Accuracy for different models on Test Data from splitting is :\n",
      "----------------------------------------------------------------------\n",
      "Accuracy of LogisticRegression is 84.70270270270271 %\n",
      "Accuracy of Naive Bayes is 78.91891891891892 %\n",
      "Accuracy of Random Forest Classifier is 92.7027027027027 %\n",
      "Accuracy of Gradient Boosting Classifier is 60.75675675675676 %\n",
      "----------------------------------------------------------------------\n"
     ]
    }
   ],
   "source": [
    "print(\"Accuracy for different models on Test Data from splitting is :\")\n",
    "print('-'*70)\n",
    "for grid_type, grid in model.items():\n",
    "    y_predict = grid.predict(X_test_vectorized)\n",
    "    print(f\"Accuracy of {grid_type} is {accuracy_score(y_test, y_predict)*100} %\")\n",
    "print('-'*70)"
   ]
  },
  {
   "cell_type": "code",
   "execution_count": 84,
   "metadata": {},
   "outputs": [
    {
     "name": "stdout",
     "output_type": "stream",
     "text": [
      "Accuracy for different models on Actual Testing Data is :\n",
      "----------------------------------------------------------------------\n",
      "Accuracy of LogisticRegression is 93.5 %\n",
      "Accuracy of Naive Bayes is 87.0 %\n",
      "Accuracy of Random Forest Classifier is 97.1 %\n",
      "Accuracy of Gradient Boosting Classifier is 65.60000000000001 %\n",
      "----------------------------------------------------------------------\n"
     ]
    }
   ],
   "source": [
    "print(\"Accuracy for different models on Actual Testing Data is :\")\n",
    "print('-'*70)\n",
    "for grid_type, grid in model.items():\n",
    "    y_predict = grid.predict(X_testfinal_vectorized)\n",
    "    print(f\"Accuracy of {grid_type} is {accuracy_score(y_testfinal, y_predict)*100} %\")\n",
    "print('-'*70)"
   ]
  },
  {
   "attachments": {},
   "cell_type": "markdown",
   "metadata": {},
   "source": [
    "#### THE FINAL HIGHEST ACCURACY IS 97.1 % FOR RANDOM FOREST CLASSIFIER MODEL \n",
    "#### ALTHOUGH AT TRAINING, IT ONLY HAD 87 % ACCURACY, BUT AS THE PREDICTION DATASET IS VERY SMALL, THE ACCURACY HAS BECOME HIGHER"
   ]
  }
 ],
 "metadata": {
  "kernelspec": {
   "display_name": "data_streamlit",
   "language": "python",
   "name": "python3"
  },
  "language_info": {
   "codemirror_mode": {
    "name": "ipython",
    "version": 3
   },
   "file_extension": ".py",
   "mimetype": "text/x-python",
   "name": "python",
   "nbconvert_exporter": "python",
   "pygments_lexer": "ipython3",
   "version": "3.10.11"
  },
  "orig_nbformat": 4
 },
 "nbformat": 4,
 "nbformat_minor": 2
}
